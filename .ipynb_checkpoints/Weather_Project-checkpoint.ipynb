{
 "cells": [
  {
   "cell_type": "markdown",
   "id": "e032ada7",
   "metadata": {},
   "source": [
    "# Analysis of weather change and paterns for New York State from 2015 to 2020"
   ]
  },
  {
   "cell_type": "markdown",
   "id": "9a3a96ff",
   "metadata": {},
   "source": [
    "authors: Ravi Konjeti, Lakshmi Bhavani and Aleksandar Kamenev"
   ]
  },
  {
   "cell_type": "markdown",
   "id": "242e2ea8",
   "metadata": {},
   "source": [
    "# 1. Import libraries and load dataset"
   ]
  },
  {
   "cell_type": "markdown",
   "id": "9f1e6973",
   "metadata": {},
   "source": [
    "### Imports"
   ]
  },
  {
   "cell_type": "code",
   "execution_count": 10,
   "id": "cd3a3fea",
   "metadata": {},
   "outputs": [],
   "source": [
    "import edapy.datainfo as datainfo"
   ]
  },
  {
   "cell_type": "markdown",
   "id": "8c6edeef",
   "metadata": {},
   "source": [
    "### Load data "
   ]
  },
  {
   "cell_type": "code",
   "execution_count": 11,
   "id": "13833723",
   "metadata": {},
   "outputs": [
    {
     "ename": "TypeError",
     "evalue": "__init__() missing 1 required positional argument: 'df'",
     "output_type": "error",
     "traceback": [
      "\u001b[1;31m---------------------------------------------------------------------------\u001b[0m",
      "\u001b[1;31mTypeError\u001b[0m                                 Traceback (most recent call last)",
      "Input \u001b[1;32mIn [11]\u001b[0m, in \u001b[0;36m<module>\u001b[1;34m\u001b[0m\n\u001b[1;32m----> 1\u001b[0m data \u001b[38;5;241m=\u001b[39m \u001b[43mdatainfo\u001b[49m\u001b[38;5;241;43m.\u001b[39;49m\u001b[43mDataInfo\u001b[49m\u001b[43m(\u001b[49m\u001b[43m)\u001b[49m\n",
      "\u001b[1;31mTypeError\u001b[0m: __init__() missing 1 required positional argument: 'df'"
     ]
    }
   ],
   "source": [
    "data = datainfo.DataInfo()"
   ]
  },
  {
   "cell_type": "code",
   "execution_count": null,
   "id": "0f6d8f0c",
   "metadata": {},
   "outputs": [],
   "source": []
  },
  {
   "cell_type": "markdown",
   "id": "0f0eef0a",
   "metadata": {},
   "source": [
    "# 2. Check for missing values"
   ]
  },
  {
   "cell_type": "markdown",
   "id": "6a509281",
   "metadata": {},
   "source": [
    "# 3. Visualize missing values"
   ]
  },
  {
   "cell_type": "markdown",
   "id": "c768be67",
   "metadata": {},
   "source": [
    "# 4. Handle/replace missing values"
   ]
  },
  {
   "cell_type": "markdown",
   "id": "e3b1e755",
   "metadata": {},
   "source": [
    "# 5. Numeric and visual analysis"
   ]
  },
  {
   "cell_type": "markdown",
   "id": "10fb3e8a",
   "metadata": {},
   "source": [
    "## Question/Point 1 "
   ]
  },
  {
   "cell_type": "markdown",
   "id": "3b7c1c6b",
   "metadata": {},
   "source": [
    "## Question/Point 2"
   ]
  },
  {
   "cell_type": "markdown",
   "id": "6c7d1b19",
   "metadata": {},
   "source": [
    "## Question/Point 3"
   ]
  },
  {
   "cell_type": "markdown",
   "id": "030adb21",
   "metadata": {},
   "source": [
    "## ..."
   ]
  },
  {
   "cell_type": "markdown",
   "id": "db97e8b2",
   "metadata": {},
   "source": [
    "# Ending remarks"
   ]
  },
  {
   "cell_type": "markdown",
   "id": "0a16deb4",
   "metadata": {},
   "source": [
    "# Future work"
   ]
  },
  {
   "cell_type": "code",
   "execution_count": null,
   "id": "68295c3c",
   "metadata": {},
   "outputs": [],
   "source": []
  }
 ],
 "metadata": {
  "kernelspec": {
   "display_name": "Python 3 (ipykernel)",
   "language": "python",
   "name": "python3"
  },
  "language_info": {
   "codemirror_mode": {
    "name": "ipython",
    "version": 3
   },
   "file_extension": ".py",
   "mimetype": "text/x-python",
   "name": "python",
   "nbconvert_exporter": "python",
   "pygments_lexer": "ipython3",
   "version": "3.9.7"
  }
 },
 "nbformat": 4,
 "nbformat_minor": 5
}
