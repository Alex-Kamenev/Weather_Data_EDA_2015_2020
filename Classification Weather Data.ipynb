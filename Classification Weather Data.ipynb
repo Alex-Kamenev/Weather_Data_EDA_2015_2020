{
 "cells": [
  {
   "cell_type": "code",
   "execution_count": 1,
   "id": "90960b53",
   "metadata": {},
   "outputs": [],
   "source": [
    "import pandas as pd\n",
    "import numpy as np\n",
    "from sklearn.model_selection import train_test_split\n",
    "from sklearn.neighbors import KNeighborsClassifier\n",
    "from sklearn.naive_bayes import GaussianNB\n",
    "from sklearn.linear_model import LogisticRegression\n",
    "from sklearn.ensemble import RandomForestClassifier\n",
    "from sklearn.metrics import classification_report"
   ]
  },
  {
   "cell_type": "code",
   "execution_count": 2,
   "id": "928301a5",
   "metadata": {},
   "outputs": [
    {
     "name": "stderr",
     "output_type": "stream",
     "text": [
      "D:\\Anaconda\\lib\\site-packages\\IPython\\core\\interactiveshell.py:3457: DtypeWarning: Columns (8,10,17,41,62,64) have mixed types.Specify dtype option on import or set low_memory=False.\n",
      "  exec(code_obj, self.user_global_ns, self.user_ns)\n"
     ]
    }
   ],
   "source": [
    "# Read in data csv\n",
    "weather = pd.read_csv('data/74486094789.csv')\n",
    "# Create knn classifier for k values of 3, 5, 7\n",
    "knn_three = KNeighborsClassifier(n_neighbors=3)\n",
    "knn_five = KNeighborsClassifier(n_neighbors=5)\n",
    "knn_seven = KNeighborsClassifier(n_neighbors=7)\n",
    "# Create naive bayes, logistic regression, and random forest\n",
    "naivebayes = GaussianNB()\n",
    "logisticregression = LogisticRegression()\n",
    "randomforest = RandomForestClassifier()"
   ]
  },
  {
   "cell_type": "code",
   "execution_count": 3,
   "id": "a07f1542",
   "metadata": {},
   "outputs": [
    {
     "name": "stderr",
     "output_type": "stream",
     "text": [
      "D:\\Anaconda\\lib\\site-packages\\ipykernel_launcher.py:4: FutureWarning: The default value of regex will change from True to False in a future version.\n",
      "  after removing the cwd from sys.path.\n",
      "D:\\Anaconda\\lib\\site-packages\\ipykernel_launcher.py:7: FutureWarning: The default value of regex will change from True to False in a future version.\n",
      "  import sys\n",
      "D:\\Anaconda\\lib\\site-packages\\ipykernel_launcher.py:9: FutureWarning: The default value of regex will change from True to False in a future version.\n",
      "  if __name__ == '__main__':\n",
      "D:\\Anaconda\\lib\\site-packages\\ipykernel_launcher.py:11: FutureWarning: The default value of regex will change from True to False in a future version.\n",
      "  # This is added back by InteractiveShellApp.init_path()\n",
      "D:\\Anaconda\\lib\\site-packages\\ipykernel_launcher.py:13: FutureWarning: The default value of regex will change from True to False in a future version.\n",
      "  del sys.path[0]\n",
      "D:\\Anaconda\\lib\\site-packages\\ipykernel_launcher.py:17: FutureWarning: The default value of regex will change from True to False in a future version.\n"
     ]
    },
    {
     "name": "stdout",
     "output_type": "stream",
     "text": [
      "<class 'pandas.core.frame.DataFrame'>\n",
      "RangeIndex: 13232 entries, 0 to 13231\n",
      "Data columns (total 14 columns):\n",
      " #   Column                     Non-Null Count  Dtype  \n",
      "---  ------                     --------------  -----  \n",
      " 0   HourlyAltimeterSetting     8192 non-null   float64\n",
      " 1   HourlyDewPointTemperature  13230 non-null  float64\n",
      " 2   HourlyDryBulbTemperature   8192 non-null   float64\n",
      " 3   HourlyPrecipitation        13230 non-null  float64\n",
      " 4   HourlyPresentWeatherType   13228 non-null  object \n",
      " 5   HourlyPressureChange       13226 non-null  float64\n",
      " 6   HourlyPressureTendency     13226 non-null  float64\n",
      " 7   HourlyRelativeHumidity     13230 non-null  float64\n",
      " 8   HourlySeaLevelPressure     8192 non-null   float64\n",
      " 9   HourlyStationPressure      13230 non-null  float64\n",
      " 10  HourlyVisibility           13230 non-null  float64\n",
      " 11  HourlyWetBulbTemperature   13230 non-null  float64\n",
      " 12  HourlyWindDirection        13230 non-null  float64\n",
      " 13  HourlyWindGustSpeed        13012 non-null  float64\n",
      "dtypes: float64(13), object(1)\n",
      "memory usage: 1.4+ MB\n"
     ]
    }
   ],
   "source": [
    "weather = weather.drop(weather.columns[23:], axis=1)\n",
    "weather = weather.drop(['DATE','LATITUDE','NAME','LONGITUDE','ELEVATION','STATION','REPORT_TYPE','SOURCE'], axis=1)\n",
    "weather = weather.drop(['HourlySkyConditions'], axis=1)\n",
    "weather['HourlyAltimeterSetting'] = weather['HourlyAltimeterSetting'].str.replace('[^0-9.]+', '')\n",
    "weather['HourlyAltimeterSetting'] = weather['HourlyAltimeterSetting'].astype(float)\n",
    "weather['HourlyDewPointTemperature'] = weather['HourlyDewPointTemperature'].astype(float)\n",
    "weather['HourlyDryBulbTemperature'] = weather['HourlyDryBulbTemperature'].str.replace('[^0-9.]+', '')\n",
    "weather['HourlyDryBulbTemperature'] = weather['HourlyDryBulbTemperature'].astype(float)\n",
    "weather['HourlySeaLevelPressure'] = weather['HourlySeaLevelPressure'].str.replace('[^0-9.]+', '')\n",
    "weather['HourlySeaLevelPressure'] = weather['HourlySeaLevelPressure'].astype(float)\n",
    "weather['HourlyStationPressure'] = weather['HourlyStationPressure'].str.replace('[^0-9.]+', '')\n",
    "weather['HourlyStationPressure'] = weather['HourlyStationPressure'].astype(float)\n",
    "weather['HourlyVisibility'] = weather['HourlyVisibility'].str.replace('[^0-9.]+', '')\n",
    "weather['HourlyVisibility'] = weather['HourlyVisibility'].astype(float)\n",
    "weather['HourlyWindDirection'] = weather['HourlyWindDirection'].str.replace('VRB',str(np.NaN))\n",
    "weather['HourlyWindDirection'] = weather['HourlyWindDirection'].astype(float)\n",
    "weather['HourlyPresentWeatherType'] = weather['HourlyPresentWeatherType'].str.replace('[0-9:.|+-]+', '')\n",
    "weather['HourlyPresentWeatherType'] = weather['HourlyPresentWeatherType'].astype(str)\n",
    "weather['HourlyPresentWeatherType'] = weather['HourlyPresentWeatherType'].str.split()\n",
    "weather2 = weather['HourlyPresentWeatherType'].apply(pd.Series)\n",
    "weather2 = weather2.replace('nan',np.NaN)\n",
    "weather2 = weather2.backfill()\n",
    "weather['HourlyPresentWeatherType'] = weather2.iloc[:,0]\n",
    "weather = weather.backfill()\n",
    "weather.info(verbose=True)"
   ]
  },
  {
   "cell_type": "code",
   "execution_count": 4,
   "id": "94fdeced",
   "metadata": {},
   "outputs": [
    {
     "data": {
      "text/html": [
       "<div>\n",
       "<style scoped>\n",
       "    .dataframe tbody tr th:only-of-type {\n",
       "        vertical-align: middle;\n",
       "    }\n",
       "\n",
       "    .dataframe tbody tr th {\n",
       "        vertical-align: top;\n",
       "    }\n",
       "\n",
       "    .dataframe thead th {\n",
       "        text-align: right;\n",
       "    }\n",
       "</style>\n",
       "<table border=\"1\" class=\"dataframe\">\n",
       "  <thead>\n",
       "    <tr style=\"text-align: right;\">\n",
       "      <th></th>\n",
       "      <th>HourlyAltimeterSetting</th>\n",
       "      <th>HourlyDewPointTemperature</th>\n",
       "      <th>HourlyDryBulbTemperature</th>\n",
       "      <th>HourlyPrecipitation</th>\n",
       "      <th>HourlyPresentWeatherType</th>\n",
       "      <th>HourlyPressureChange</th>\n",
       "      <th>HourlyPressureTendency</th>\n",
       "      <th>HourlyRelativeHumidity</th>\n",
       "      <th>HourlySeaLevelPressure</th>\n",
       "      <th>HourlyStationPressure</th>\n",
       "      <th>HourlyVisibility</th>\n",
       "      <th>HourlyWetBulbTemperature</th>\n",
       "      <th>HourlyWindDirection</th>\n",
       "      <th>HourlyWindGustSpeed</th>\n",
       "    </tr>\n",
       "  </thead>\n",
       "  <tbody>\n",
       "    <tr>\n",
       "      <th>0</th>\n",
       "      <td>30.43</td>\n",
       "      <td>24.0</td>\n",
       "      <td>33.0</td>\n",
       "      <td>0.0</td>\n",
       "      <td>PL</td>\n",
       "      <td>-0.05</td>\n",
       "      <td>1.0</td>\n",
       "      <td>70.0</td>\n",
       "      <td>30.43</td>\n",
       "      <td>30.40</td>\n",
       "      <td>10.00</td>\n",
       "      <td>30.0</td>\n",
       "      <td>350.0</td>\n",
       "      <td>23.0</td>\n",
       "    </tr>\n",
       "    <tr>\n",
       "      <th>1</th>\n",
       "      <td>30.46</td>\n",
       "      <td>24.0</td>\n",
       "      <td>33.0</td>\n",
       "      <td>0.0</td>\n",
       "      <td>PL</td>\n",
       "      <td>-0.05</td>\n",
       "      <td>1.0</td>\n",
       "      <td>70.0</td>\n",
       "      <td>30.43</td>\n",
       "      <td>30.40</td>\n",
       "      <td>9.94</td>\n",
       "      <td>30.0</td>\n",
       "      <td>350.0</td>\n",
       "      <td>23.0</td>\n",
       "    </tr>\n",
       "    <tr>\n",
       "      <th>2</th>\n",
       "      <td>30.46</td>\n",
       "      <td>25.0</td>\n",
       "      <td>33.0</td>\n",
       "      <td>0.0</td>\n",
       "      <td>PL</td>\n",
       "      <td>-0.05</td>\n",
       "      <td>1.0</td>\n",
       "      <td>72.0</td>\n",
       "      <td>30.46</td>\n",
       "      <td>30.43</td>\n",
       "      <td>10.00</td>\n",
       "      <td>30.0</td>\n",
       "      <td>360.0</td>\n",
       "      <td>23.0</td>\n",
       "    </tr>\n",
       "    <tr>\n",
       "      <th>3</th>\n",
       "      <td>30.47</td>\n",
       "      <td>25.0</td>\n",
       "      <td>32.0</td>\n",
       "      <td>0.0</td>\n",
       "      <td>PL</td>\n",
       "      <td>-0.05</td>\n",
       "      <td>1.0</td>\n",
       "      <td>75.0</td>\n",
       "      <td>30.47</td>\n",
       "      <td>30.45</td>\n",
       "      <td>10.00</td>\n",
       "      <td>30.0</td>\n",
       "      <td>360.0</td>\n",
       "      <td>23.0</td>\n",
       "    </tr>\n",
       "    <tr>\n",
       "      <th>4</th>\n",
       "      <td>30.48</td>\n",
       "      <td>25.0</td>\n",
       "      <td>33.0</td>\n",
       "      <td>0.0</td>\n",
       "      <td>PL</td>\n",
       "      <td>-0.05</td>\n",
       "      <td>1.0</td>\n",
       "      <td>72.0</td>\n",
       "      <td>30.48</td>\n",
       "      <td>30.45</td>\n",
       "      <td>10.00</td>\n",
       "      <td>30.0</td>\n",
       "      <td>360.0</td>\n",
       "      <td>23.0</td>\n",
       "    </tr>\n",
       "  </tbody>\n",
       "</table>\n",
       "</div>"
      ],
      "text/plain": [
       "   HourlyAltimeterSetting  HourlyDewPointTemperature  \\\n",
       "0                   30.43                       24.0   \n",
       "1                   30.46                       24.0   \n",
       "2                   30.46                       25.0   \n",
       "3                   30.47                       25.0   \n",
       "4                   30.48                       25.0   \n",
       "\n",
       "   HourlyDryBulbTemperature  HourlyPrecipitation HourlyPresentWeatherType  \\\n",
       "0                      33.0                  0.0                       PL   \n",
       "1                      33.0                  0.0                       PL   \n",
       "2                      33.0                  0.0                       PL   \n",
       "3                      32.0                  0.0                       PL   \n",
       "4                      33.0                  0.0                       PL   \n",
       "\n",
       "   HourlyPressureChange  HourlyPressureTendency  HourlyRelativeHumidity  \\\n",
       "0                 -0.05                     1.0                    70.0   \n",
       "1                 -0.05                     1.0                    70.0   \n",
       "2                 -0.05                     1.0                    72.0   \n",
       "3                 -0.05                     1.0                    75.0   \n",
       "4                 -0.05                     1.0                    72.0   \n",
       "\n",
       "   HourlySeaLevelPressure  HourlyStationPressure  HourlyVisibility  \\\n",
       "0                   30.43                  30.40             10.00   \n",
       "1                   30.43                  30.40              9.94   \n",
       "2                   30.46                  30.43             10.00   \n",
       "3                   30.47                  30.45             10.00   \n",
       "4                   30.48                  30.45             10.00   \n",
       "\n",
       "   HourlyWetBulbTemperature  HourlyWindDirection  HourlyWindGustSpeed  \n",
       "0                      30.0                350.0                 23.0  \n",
       "1                      30.0                350.0                 23.0  \n",
       "2                      30.0                360.0                 23.0  \n",
       "3                      30.0                360.0                 23.0  \n",
       "4                      30.0                360.0                 23.0  "
      ]
     },
     "execution_count": 4,
     "metadata": {},
     "output_type": "execute_result"
    }
   ],
   "source": [
    "weather.head()"
   ]
  },
  {
   "cell_type": "code",
   "execution_count": 5,
   "id": "348d4341",
   "metadata": {},
   "outputs": [
    {
     "data": {
      "text/plain": [
       "RA      7087\n",
       "BR      2582\n",
       "SN      1382\n",
       "TS       739\n",
       "VCTS     671\n",
       "DZ       296\n",
       "MI       123\n",
       "HZ       115\n",
       "PL        98\n",
       "FG        66\n",
       "FZ        58\n",
       "FU         7\n",
       "VCFG       4\n",
       "Name: HourlyPresentWeatherType, dtype: int64"
      ]
     },
     "execution_count": 5,
     "metadata": {},
     "output_type": "execute_result"
    }
   ],
   "source": [
    "weather['HourlyPresentWeatherType'].value_counts()"
   ]
  },
  {
   "cell_type": "code",
   "execution_count": 6,
   "id": "339242e3",
   "metadata": {},
   "outputs": [],
   "source": [
    "weather = weather.backfill()"
   ]
  },
  {
   "cell_type": "code",
   "execution_count": 7,
   "id": "130e5243",
   "metadata": {},
   "outputs": [
    {
     "data": {
      "text/plain": [
       "HourlyAltimeterSetting       5040\n",
       "HourlyDewPointTemperature       2\n",
       "HourlyDryBulbTemperature     5040\n",
       "HourlyPrecipitation             2\n",
       "HourlyPresentWeatherType        4\n",
       "HourlyPressureChange            6\n",
       "HourlyPressureTendency          6\n",
       "HourlyRelativeHumidity          2\n",
       "HourlySeaLevelPressure       5040\n",
       "HourlyStationPressure           2\n",
       "HourlyVisibility                2\n",
       "HourlyWetBulbTemperature        2\n",
       "HourlyWindDirection             2\n",
       "HourlyWindGustSpeed           220\n",
       "dtype: int64"
      ]
     },
     "execution_count": 7,
     "metadata": {},
     "output_type": "execute_result"
    }
   ],
   "source": [
    "weather.isna().sum()"
   ]
  },
  {
   "cell_type": "code",
   "execution_count": 8,
   "id": "dadddba1",
   "metadata": {},
   "outputs": [],
   "source": [
    "weather = weather.dropna(subset=['HourlyAltimeterSetting'])\n",
    "weather = weather.dropna(subset=['HourlyWindDirection'])\n",
    "weather = weather.fillna({'HourlyWindGustSpeed':0})"
   ]
  },
  {
   "cell_type": "code",
   "execution_count": 9,
   "id": "dec150fc",
   "metadata": {},
   "outputs": [
    {
     "data": {
      "text/plain": [
       "HourlyAltimeterSetting       0\n",
       "HourlyDewPointTemperature    0\n",
       "HourlyDryBulbTemperature     0\n",
       "HourlyPrecipitation          0\n",
       "HourlyPresentWeatherType     0\n",
       "HourlyPressureChange         0\n",
       "HourlyPressureTendency       0\n",
       "HourlyRelativeHumidity       0\n",
       "HourlySeaLevelPressure       0\n",
       "HourlyStationPressure        0\n",
       "HourlyVisibility             0\n",
       "HourlyWetBulbTemperature     0\n",
       "HourlyWindDirection          0\n",
       "HourlyWindGustSpeed          0\n",
       "dtype: int64"
      ]
     },
     "execution_count": 9,
     "metadata": {},
     "output_type": "execute_result"
    }
   ],
   "source": [
    "weather.isna().sum()"
   ]
  },
  {
   "cell_type": "code",
   "execution_count": 10,
   "id": "1d94e025",
   "metadata": {},
   "outputs": [
    {
     "data": {
      "text/html": [
       "<div>\n",
       "<style scoped>\n",
       "    .dataframe tbody tr th:only-of-type {\n",
       "        vertical-align: middle;\n",
       "    }\n",
       "\n",
       "    .dataframe tbody tr th {\n",
       "        vertical-align: top;\n",
       "    }\n",
       "\n",
       "    .dataframe thead th {\n",
       "        text-align: right;\n",
       "    }\n",
       "</style>\n",
       "<table border=\"1\" class=\"dataframe\">\n",
       "  <thead>\n",
       "    <tr style=\"text-align: right;\">\n",
       "      <th></th>\n",
       "      <th>HourlyAltimeterSetting</th>\n",
       "      <th>HourlyDewPointTemperature</th>\n",
       "      <th>HourlyDryBulbTemperature</th>\n",
       "      <th>HourlyPrecipitation</th>\n",
       "      <th>HourlyPresentWeatherType</th>\n",
       "      <th>HourlyPressureChange</th>\n",
       "      <th>HourlyPressureTendency</th>\n",
       "      <th>HourlyRelativeHumidity</th>\n",
       "      <th>HourlySeaLevelPressure</th>\n",
       "      <th>HourlyStationPressure</th>\n",
       "      <th>HourlyVisibility</th>\n",
       "      <th>HourlyWetBulbTemperature</th>\n",
       "      <th>HourlyWindDirection</th>\n",
       "      <th>HourlyWindGustSpeed</th>\n",
       "    </tr>\n",
       "  </thead>\n",
       "  <tbody>\n",
       "    <tr>\n",
       "      <th>0</th>\n",
       "      <td>30.43</td>\n",
       "      <td>24.0</td>\n",
       "      <td>33.0</td>\n",
       "      <td>0.0</td>\n",
       "      <td>PL</td>\n",
       "      <td>-0.05</td>\n",
       "      <td>1.0</td>\n",
       "      <td>70.0</td>\n",
       "      <td>30.43</td>\n",
       "      <td>30.40</td>\n",
       "      <td>10.00</td>\n",
       "      <td>30.0</td>\n",
       "      <td>350.0</td>\n",
       "      <td>23.0</td>\n",
       "    </tr>\n",
       "    <tr>\n",
       "      <th>1</th>\n",
       "      <td>30.46</td>\n",
       "      <td>24.0</td>\n",
       "      <td>33.0</td>\n",
       "      <td>0.0</td>\n",
       "      <td>PL</td>\n",
       "      <td>-0.05</td>\n",
       "      <td>1.0</td>\n",
       "      <td>70.0</td>\n",
       "      <td>30.43</td>\n",
       "      <td>30.40</td>\n",
       "      <td>9.94</td>\n",
       "      <td>30.0</td>\n",
       "      <td>350.0</td>\n",
       "      <td>23.0</td>\n",
       "    </tr>\n",
       "    <tr>\n",
       "      <th>2</th>\n",
       "      <td>30.46</td>\n",
       "      <td>25.0</td>\n",
       "      <td>33.0</td>\n",
       "      <td>0.0</td>\n",
       "      <td>PL</td>\n",
       "      <td>-0.05</td>\n",
       "      <td>1.0</td>\n",
       "      <td>72.0</td>\n",
       "      <td>30.46</td>\n",
       "      <td>30.43</td>\n",
       "      <td>10.00</td>\n",
       "      <td>30.0</td>\n",
       "      <td>360.0</td>\n",
       "      <td>23.0</td>\n",
       "    </tr>\n",
       "    <tr>\n",
       "      <th>3</th>\n",
       "      <td>30.47</td>\n",
       "      <td>25.0</td>\n",
       "      <td>32.0</td>\n",
       "      <td>0.0</td>\n",
       "      <td>PL</td>\n",
       "      <td>-0.05</td>\n",
       "      <td>1.0</td>\n",
       "      <td>75.0</td>\n",
       "      <td>30.47</td>\n",
       "      <td>30.45</td>\n",
       "      <td>10.00</td>\n",
       "      <td>30.0</td>\n",
       "      <td>360.0</td>\n",
       "      <td>23.0</td>\n",
       "    </tr>\n",
       "    <tr>\n",
       "      <th>4</th>\n",
       "      <td>30.48</td>\n",
       "      <td>25.0</td>\n",
       "      <td>33.0</td>\n",
       "      <td>0.0</td>\n",
       "      <td>PL</td>\n",
       "      <td>-0.05</td>\n",
       "      <td>1.0</td>\n",
       "      <td>72.0</td>\n",
       "      <td>30.48</td>\n",
       "      <td>30.45</td>\n",
       "      <td>10.00</td>\n",
       "      <td>30.0</td>\n",
       "      <td>360.0</td>\n",
       "      <td>23.0</td>\n",
       "    </tr>\n",
       "  </tbody>\n",
       "</table>\n",
       "</div>"
      ],
      "text/plain": [
       "   HourlyAltimeterSetting  HourlyDewPointTemperature  \\\n",
       "0                   30.43                       24.0   \n",
       "1                   30.46                       24.0   \n",
       "2                   30.46                       25.0   \n",
       "3                   30.47                       25.0   \n",
       "4                   30.48                       25.0   \n",
       "\n",
       "   HourlyDryBulbTemperature  HourlyPrecipitation HourlyPresentWeatherType  \\\n",
       "0                      33.0                  0.0                       PL   \n",
       "1                      33.0                  0.0                       PL   \n",
       "2                      33.0                  0.0                       PL   \n",
       "3                      32.0                  0.0                       PL   \n",
       "4                      33.0                  0.0                       PL   \n",
       "\n",
       "   HourlyPressureChange  HourlyPressureTendency  HourlyRelativeHumidity  \\\n",
       "0                 -0.05                     1.0                    70.0   \n",
       "1                 -0.05                     1.0                    70.0   \n",
       "2                 -0.05                     1.0                    72.0   \n",
       "3                 -0.05                     1.0                    75.0   \n",
       "4                 -0.05                     1.0                    72.0   \n",
       "\n",
       "   HourlySeaLevelPressure  HourlyStationPressure  HourlyVisibility  \\\n",
       "0                   30.43                  30.40             10.00   \n",
       "1                   30.43                  30.40              9.94   \n",
       "2                   30.46                  30.43             10.00   \n",
       "3                   30.47                  30.45             10.00   \n",
       "4                   30.48                  30.45             10.00   \n",
       "\n",
       "   HourlyWetBulbTemperature  HourlyWindDirection  HourlyWindGustSpeed  \n",
       "0                      30.0                350.0                 23.0  \n",
       "1                      30.0                350.0                 23.0  \n",
       "2                      30.0                360.0                 23.0  \n",
       "3                      30.0                360.0                 23.0  \n",
       "4                      30.0                360.0                 23.0  "
      ]
     },
     "execution_count": 10,
     "metadata": {},
     "output_type": "execute_result"
    }
   ],
   "source": [
    "weather.head()"
   ]
  },
  {
   "cell_type": "code",
   "execution_count": 11,
   "id": "dfd3e55d",
   "metadata": {},
   "outputs": [
    {
     "data": {
      "text/plain": [
       "array(['PL', 'RA', 'BR', 'DZ', 'SN', 'HZ', 'FZ', 'MI', 'FG', 'TS', 'VCTS',\n",
       "       'FU', 'VCFG'], dtype=object)"
      ]
     },
     "execution_count": 11,
     "metadata": {},
     "output_type": "execute_result"
    }
   ],
   "source": [
    "weather['HourlyPresentWeatherType'].unique()"
   ]
  },
  {
   "cell_type": "markdown",
   "id": "d4f5e78a",
   "metadata": {},
   "source": [
    "PL = Ice Pellets\n",
    "\n",
    "RA = Rain\n",
    "\n",
    "BR = Mist\n",
    "\n",
    "DZ = Drizzle\n",
    "\n",
    "SN = Snow\n",
    "\n",
    "HZ = Haze\n",
    "\n",
    "FZ = Freezing\n",
    "\n",
    "MI = Mild\n",
    "\n",
    "FG = Fog\n",
    "\n",
    "TS = Thunderstorm\n",
    "\n",
    "VCTS = Thunderstorm in Vicinity\n",
    "\n",
    "FU = Smoke\n",
    "\n",
    "VCFG = Fog in Vicinity"
   ]
  },
  {
   "cell_type": "code",
   "execution_count": 12,
   "id": "0971790b",
   "metadata": {},
   "outputs": [],
   "source": [
    "# Break dataset into train and test sets\n",
    "train, test = train_test_split(weather, test_size = 0.2, stratify=weather['HourlyPresentWeatherType'])"
   ]
  },
  {
   "cell_type": "code",
   "execution_count": 13,
   "id": "8c65bc0d",
   "metadata": {},
   "outputs": [],
   "source": [
    "# Break train and test into X and y\n",
    "train_X = train.drop(['HourlyPresentWeatherType'],axis=1)\n",
    "train_y = train.HourlyPresentWeatherType\n",
    "test_X = test.drop(['HourlyPresentWeatherType'],axis=1)\n",
    "test_y = test.HourlyPresentWeatherType"
   ]
  },
  {
   "cell_type": "code",
   "execution_count": 14,
   "id": "2d8875ab",
   "metadata": {},
   "outputs": [
    {
     "data": {
      "text/plain": [
       "0.7101891397193411"
      ]
     },
     "execution_count": 14,
     "metadata": {},
     "output_type": "execute_result"
    }
   ],
   "source": [
    "knn_three.fit(train_X,train_y)\n",
    "knn_three.score(test_X,test_y)"
   ]
  },
  {
   "cell_type": "code",
   "execution_count": 15,
   "id": "a142a88c",
   "metadata": {},
   "outputs": [
    {
     "name": "stdout",
     "output_type": "stream",
     "text": [
      "              precision    recall  f1-score   support\n",
      "\n",
      "          BR       0.67      0.71      0.69       429\n",
      "          DZ       0.64      0.60      0.62        30\n",
      "          FG       0.29      0.15      0.20        13\n",
      "          FU       0.00      0.00      0.00         1\n",
      "          FZ       0.27      0.33      0.30        12\n",
      "          HZ       0.31      0.17      0.22        23\n",
      "          MI       0.45      0.40      0.43        25\n",
      "          PL       0.53      0.53      0.53        19\n",
      "          RA       0.76      0.80      0.78       695\n",
      "          SN       0.78      0.76      0.77       243\n",
      "          TS       0.54      0.32      0.40        68\n",
      "        VCFG       0.00      0.00      0.00         1\n",
      "        VCTS       0.64      0.62      0.63        80\n",
      "\n",
      "    accuracy                           0.71      1639\n",
      "   macro avg       0.45      0.42      0.43      1639\n",
      "weighted avg       0.70      0.71      0.70      1639\n",
      "\n"
     ]
    },
    {
     "name": "stderr",
     "output_type": "stream",
     "text": [
      "D:\\Anaconda\\lib\\site-packages\\sklearn\\metrics\\_classification.py:1318: UndefinedMetricWarning: Precision and F-score are ill-defined and being set to 0.0 in labels with no predicted samples. Use `zero_division` parameter to control this behavior.\n",
      "  _warn_prf(average, modifier, msg_start, len(result))\n",
      "D:\\Anaconda\\lib\\site-packages\\sklearn\\metrics\\_classification.py:1318: UndefinedMetricWarning: Precision and F-score are ill-defined and being set to 0.0 in labels with no predicted samples. Use `zero_division` parameter to control this behavior.\n",
      "  _warn_prf(average, modifier, msg_start, len(result))\n",
      "D:\\Anaconda\\lib\\site-packages\\sklearn\\metrics\\_classification.py:1318: UndefinedMetricWarning: Precision and F-score are ill-defined and being set to 0.0 in labels with no predicted samples. Use `zero_division` parameter to control this behavior.\n",
      "  _warn_prf(average, modifier, msg_start, len(result))\n"
     ]
    }
   ],
   "source": [
    "preds = knn_three.predict(test_X)\n",
    "print(classification_report(test_y, preds))"
   ]
  },
  {
   "cell_type": "code",
   "execution_count": 16,
   "id": "6f245406",
   "metadata": {},
   "outputs": [
    {
     "data": {
      "text/plain": [
       "0.6723611958511287"
      ]
     },
     "execution_count": 16,
     "metadata": {},
     "output_type": "execute_result"
    }
   ],
   "source": [
    "knn_five.fit(train_X,train_y)\n",
    "knn_five.score(test_X,test_y)"
   ]
  },
  {
   "cell_type": "code",
   "execution_count": 17,
   "id": "6aad1b3c",
   "metadata": {},
   "outputs": [
    {
     "name": "stdout",
     "output_type": "stream",
     "text": [
      "              precision    recall  f1-score   support\n",
      "\n",
      "          BR       0.65      0.64      0.64       429\n",
      "          DZ       0.62      0.53      0.57        30\n",
      "          FG       0.36      0.31      0.33        13\n",
      "          FU       0.00      0.00      0.00         1\n",
      "          FZ       0.31      0.33      0.32        12\n",
      "          HZ       0.29      0.17      0.22        23\n",
      "          MI       0.35      0.36      0.35        25\n",
      "          PL       0.46      0.58      0.51        19\n",
      "          RA       0.72      0.78      0.75       695\n",
      "          SN       0.74      0.71      0.73       243\n",
      "          TS       0.47      0.29      0.36        68\n",
      "        VCFG       0.00      0.00      0.00         1\n",
      "        VCTS       0.59      0.55      0.57        80\n",
      "\n",
      "    accuracy                           0.67      1639\n",
      "   macro avg       0.43      0.40      0.41      1639\n",
      "weighted avg       0.67      0.67      0.67      1639\n",
      "\n"
     ]
    },
    {
     "name": "stderr",
     "output_type": "stream",
     "text": [
      "D:\\Anaconda\\lib\\site-packages\\sklearn\\metrics\\_classification.py:1318: UndefinedMetricWarning: Precision and F-score are ill-defined and being set to 0.0 in labels with no predicted samples. Use `zero_division` parameter to control this behavior.\n",
      "  _warn_prf(average, modifier, msg_start, len(result))\n",
      "D:\\Anaconda\\lib\\site-packages\\sklearn\\metrics\\_classification.py:1318: UndefinedMetricWarning: Precision and F-score are ill-defined and being set to 0.0 in labels with no predicted samples. Use `zero_division` parameter to control this behavior.\n",
      "  _warn_prf(average, modifier, msg_start, len(result))\n",
      "D:\\Anaconda\\lib\\site-packages\\sklearn\\metrics\\_classification.py:1318: UndefinedMetricWarning: Precision and F-score are ill-defined and being set to 0.0 in labels with no predicted samples. Use `zero_division` parameter to control this behavior.\n",
      "  _warn_prf(average, modifier, msg_start, len(result))\n"
     ]
    }
   ],
   "source": [
    "preds = knn_five.predict(test_X)\n",
    "print(classification_report(test_y, preds))"
   ]
  },
  {
   "cell_type": "code",
   "execution_count": 18,
   "id": "13365e34",
   "metadata": {},
   "outputs": [
    {
     "data": {
      "text/plain": [
       "0.6522269676632093"
      ]
     },
     "execution_count": 18,
     "metadata": {},
     "output_type": "execute_result"
    }
   ],
   "source": [
    "knn_seven.fit(train_X,train_y)\n",
    "knn_seven.score(test_X,test_y)"
   ]
  },
  {
   "cell_type": "code",
   "execution_count": 19,
   "id": "2b5b9ca5",
   "metadata": {},
   "outputs": [
    {
     "name": "stdout",
     "output_type": "stream",
     "text": [
      "              precision    recall  f1-score   support\n",
      "\n",
      "          BR       0.63      0.64      0.63       429\n",
      "          DZ       0.41      0.30      0.35        30\n",
      "          FG       0.30      0.23      0.26        13\n",
      "          FU       0.00      0.00      0.00         1\n",
      "          FZ       0.36      0.33      0.35        12\n",
      "          HZ       0.25      0.13      0.17        23\n",
      "          MI       0.33      0.32      0.33        25\n",
      "          PL       0.40      0.53      0.45        19\n",
      "          RA       0.70      0.77      0.73       695\n",
      "          SN       0.73      0.66      0.69       243\n",
      "          TS       0.44      0.28      0.34        68\n",
      "        VCFG       0.00      0.00      0.00         1\n",
      "        VCTS       0.57      0.56      0.57        80\n",
      "\n",
      "    accuracy                           0.65      1639\n",
      "   macro avg       0.39      0.37      0.38      1639\n",
      "weighted avg       0.64      0.65      0.65      1639\n",
      "\n"
     ]
    },
    {
     "name": "stderr",
     "output_type": "stream",
     "text": [
      "D:\\Anaconda\\lib\\site-packages\\sklearn\\metrics\\_classification.py:1318: UndefinedMetricWarning: Precision and F-score are ill-defined and being set to 0.0 in labels with no predicted samples. Use `zero_division` parameter to control this behavior.\n",
      "  _warn_prf(average, modifier, msg_start, len(result))\n",
      "D:\\Anaconda\\lib\\site-packages\\sklearn\\metrics\\_classification.py:1318: UndefinedMetricWarning: Precision and F-score are ill-defined and being set to 0.0 in labels with no predicted samples. Use `zero_division` parameter to control this behavior.\n",
      "  _warn_prf(average, modifier, msg_start, len(result))\n",
      "D:\\Anaconda\\lib\\site-packages\\sklearn\\metrics\\_classification.py:1318: UndefinedMetricWarning: Precision and F-score are ill-defined and being set to 0.0 in labels with no predicted samples. Use `zero_division` parameter to control this behavior.\n",
      "  _warn_prf(average, modifier, msg_start, len(result))\n"
     ]
    }
   ],
   "source": [
    "preds = knn_seven.predict(test_X)\n",
    "print(classification_report(test_y, preds))"
   ]
  },
  {
   "cell_type": "code",
   "execution_count": 20,
   "id": "f6c56d71",
   "metadata": {},
   "outputs": [
    {
     "data": {
      "text/plain": [
       "0.4661378889566809"
      ]
     },
     "execution_count": 20,
     "metadata": {},
     "output_type": "execute_result"
    }
   ],
   "source": [
    "naivebayes.fit(train_X,train_y)\n",
    "naivebayes.score(test_X,test_y)"
   ]
  },
  {
   "cell_type": "code",
   "execution_count": 21,
   "id": "e49ee88a",
   "metadata": {},
   "outputs": [
    {
     "name": "stdout",
     "output_type": "stream",
     "text": [
      "              precision    recall  f1-score   support\n",
      "\n",
      "          BR       0.52      0.48      0.50       429\n",
      "          DZ       0.16      0.33      0.21        30\n",
      "          FG       0.33      0.92      0.49        13\n",
      "          FU       0.11      1.00      0.20         1\n",
      "          FZ       0.40      0.50      0.44        12\n",
      "          HZ       0.10      0.78      0.18        23\n",
      "          MI       0.23      0.68      0.35        25\n",
      "          PL       0.16      0.74      0.27        19\n",
      "          RA       0.85      0.35      0.50       695\n",
      "          SN       0.55      0.65      0.59       243\n",
      "          TS       0.35      0.26      0.30        68\n",
      "        VCFG       1.00      1.00      1.00         1\n",
      "        VCTS       0.37      0.75      0.50        80\n",
      "\n",
      "    accuracy                           0.47      1639\n",
      "   macro avg       0.40      0.65      0.43      1639\n",
      "weighted avg       0.63      0.47      0.49      1639\n",
      "\n"
     ]
    }
   ],
   "source": [
    "preds = naivebayes.predict(test_X)\n",
    "print(classification_report(test_y, preds))"
   ]
  },
  {
   "cell_type": "code",
   "execution_count": 22,
   "id": "a8d31cda",
   "metadata": {},
   "outputs": [
    {
     "name": "stderr",
     "output_type": "stream",
     "text": [
      "D:\\Anaconda\\lib\\site-packages\\sklearn\\linear_model\\_logistic.py:818: ConvergenceWarning: lbfgs failed to converge (status=1):\n",
      "STOP: TOTAL NO. of ITERATIONS REACHED LIMIT.\n",
      "\n",
      "Increase the number of iterations (max_iter) or scale the data as shown in:\n",
      "    https://scikit-learn.org/stable/modules/preprocessing.html\n",
      "Please also refer to the documentation for alternative solver options:\n",
      "    https://scikit-learn.org/stable/modules/linear_model.html#logistic-regression\n",
      "  extra_warning_msg=_LOGISTIC_SOLVER_CONVERGENCE_MSG,\n"
     ]
    },
    {
     "data": {
      "text/plain": [
       "0.5003050640634533"
      ]
     },
     "execution_count": 22,
     "metadata": {},
     "output_type": "execute_result"
    }
   ],
   "source": [
    "logisticregression.fit(train_X,train_y)\n",
    "logisticregression.score(test_X,test_y)"
   ]
  },
  {
   "cell_type": "code",
   "execution_count": 23,
   "id": "ac5a93a1",
   "metadata": {},
   "outputs": [
    {
     "name": "stdout",
     "output_type": "stream",
     "text": [
      "              precision    recall  f1-score   support\n",
      "\n",
      "          BR       0.39      0.15      0.22       429\n",
      "          DZ       1.00      0.10      0.18        30\n",
      "          FG       0.00      0.00      0.00        13\n",
      "          FU       0.00      0.00      0.00         1\n",
      "          FZ       0.00      0.00      0.00        12\n",
      "          HZ       0.00      0.00      0.00        23\n",
      "          MI       0.00      0.00      0.00        25\n",
      "          PL       0.67      0.21      0.32        19\n",
      "          RA       0.53      0.82      0.65       695\n",
      "          SN       0.49      0.61      0.54       243\n",
      "          TS       0.38      0.07      0.12        68\n",
      "        VCFG       0.00      0.00      0.00         1\n",
      "        VCTS       0.31      0.28      0.29        80\n",
      "\n",
      "    accuracy                           0.50      1639\n",
      "   macro avg       0.29      0.17      0.18      1639\n",
      "weighted avg       0.46      0.50      0.44      1639\n",
      "\n"
     ]
    },
    {
     "name": "stderr",
     "output_type": "stream",
     "text": [
      "D:\\Anaconda\\lib\\site-packages\\sklearn\\metrics\\_classification.py:1318: UndefinedMetricWarning: Precision and F-score are ill-defined and being set to 0.0 in labels with no predicted samples. Use `zero_division` parameter to control this behavior.\n",
      "  _warn_prf(average, modifier, msg_start, len(result))\n",
      "D:\\Anaconda\\lib\\site-packages\\sklearn\\metrics\\_classification.py:1318: UndefinedMetricWarning: Precision and F-score are ill-defined and being set to 0.0 in labels with no predicted samples. Use `zero_division` parameter to control this behavior.\n",
      "  _warn_prf(average, modifier, msg_start, len(result))\n",
      "D:\\Anaconda\\lib\\site-packages\\sklearn\\metrics\\_classification.py:1318: UndefinedMetricWarning: Precision and F-score are ill-defined and being set to 0.0 in labels with no predicted samples. Use `zero_division` parameter to control this behavior.\n",
      "  _warn_prf(average, modifier, msg_start, len(result))\n"
     ]
    }
   ],
   "source": [
    "preds = logisticregression.predict(test_X)\n",
    "print(classification_report(test_y, preds))"
   ]
  },
  {
   "cell_type": "code",
   "execution_count": 24,
   "id": "a36b1cbb",
   "metadata": {},
   "outputs": [
    {
     "data": {
      "text/plain": [
       "0.9280048810250152"
      ]
     },
     "execution_count": 24,
     "metadata": {},
     "output_type": "execute_result"
    }
   ],
   "source": [
    "randomforest.fit(train_X,train_y)\n",
    "randomforest.score(test_X,test_y)"
   ]
  },
  {
   "cell_type": "code",
   "execution_count": 25,
   "id": "9a6317b7",
   "metadata": {},
   "outputs": [
    {
     "name": "stdout",
     "output_type": "stream",
     "text": [
      "              precision    recall  f1-score   support\n",
      "\n",
      "          BR       0.93      0.92      0.93       429\n",
      "          DZ       0.89      0.80      0.84        30\n",
      "          FG       0.77      0.77      0.77        13\n",
      "          FU       1.00      1.00      1.00         1\n",
      "          FZ       0.89      0.67      0.76        12\n",
      "          HZ       1.00      0.65      0.79        23\n",
      "          MI       0.92      0.88      0.90        25\n",
      "          PL       0.89      0.84      0.86        19\n",
      "          RA       0.93      0.98      0.95       695\n",
      "          SN       0.95      0.93      0.94       243\n",
      "          TS       0.91      0.74      0.81        68\n",
      "        VCFG       1.00      1.00      1.00         1\n",
      "        VCTS       0.90      0.94      0.92        80\n",
      "\n",
      "    accuracy                           0.93      1639\n",
      "   macro avg       0.92      0.85      0.88      1639\n",
      "weighted avg       0.93      0.93      0.93      1639\n",
      "\n"
     ]
    }
   ],
   "source": [
    "preds = randomforest.predict(test_X)\n",
    "print(classification_report(test_y, preds))"
   ]
  }
 ],
 "metadata": {
  "kernelspec": {
   "display_name": "Python 3 (ipykernel)",
   "language": "python",
   "name": "python3"
  },
  "language_info": {
   "codemirror_mode": {
    "name": "ipython",
    "version": 3
   },
   "file_extension": ".py",
   "mimetype": "text/x-python",
   "name": "python",
   "nbconvert_exporter": "python",
   "pygments_lexer": "ipython3",
   "version": "3.7.11"
  }
 },
 "nbformat": 4,
 "nbformat_minor": 5
}
