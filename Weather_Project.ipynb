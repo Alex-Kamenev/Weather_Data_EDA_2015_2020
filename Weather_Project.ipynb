{
 "cells": [
  {
   "cell_type": "markdown",
   "id": "eeb082b6",
   "metadata": {},
   "source": [
    "# Analysis of weather change and paterns for New York State from 2015 to 2020"
   ]
  },
  {
   "cell_type": "markdown",
   "id": "89870e23",
   "metadata": {},
   "source": [
    "authors: Ravi Konjeti, Lakshmi Bhavani and Aleksandar Kamenev"
   ]
  },
  {
   "cell_type": "markdown",
   "id": "c98c24ff",
   "metadata": {},
   "source": [
    "# 1. Import libraries and load dataset"
   ]
  },
  {
   "cell_type": "markdown",
   "id": "725a5318",
   "metadata": {},
   "source": [
    "### Imports"
   ]
  },
  {
   "cell_type": "code",
   "execution_count": 1,
   "id": "03fafd65",
   "metadata": {},
   "outputs": [],
   "source": [
    "import pandas as pd\n",
    "import edapy.datainfo as d_info\n",
    "import edapy.load_data as d_load"
   ]
  },
  {
   "cell_type": "markdown",
   "id": "65013a6d",
   "metadata": {},
   "source": [
    "### Load data "
   ]
  },
  {
   "cell_type": "code",
   "execution_count": 2,
   "id": "2a3df81f",
   "metadata": {},
   "outputs": [],
   "source": [
    "weather_df = d_load.load_df(r'C:\\Spring_2022\\Python\\NY_State_Weather_EDA_2015_2020\\data\\dataset.csv')"
   ]
  },
  {
   "cell_type": "code",
   "execution_count": 3,
   "id": "24d3d809",
   "metadata": {},
   "outputs": [],
   "source": [
    "data = d_info.DataInfo(weather_df)"
   ]
  },
  {
   "cell_type": "code",
   "execution_count": 4,
   "id": "3ba3fd30",
   "metadata": {
    "scrolled": false
   },
   "outputs": [
    {
     "data": {
      "text/html": [
       "<div>\n",
       "<style scoped>\n",
       "    .dataframe tbody tr th:only-of-type {\n",
       "        vertical-align: middle;\n",
       "    }\n",
       "\n",
       "    .dataframe tbody tr th {\n",
       "        vertical-align: top;\n",
       "    }\n",
       "\n",
       "    .dataframe thead th {\n",
       "        text-align: right;\n",
       "    }\n",
       "</style>\n",
       "<table border=\"1\" class=\"dataframe\">\n",
       "  <thead>\n",
       "    <tr style=\"text-align: right;\">\n",
       "      <th></th>\n",
       "      <th>STATION</th>\n",
       "      <th>NAME</th>\n",
       "      <th>LATITUDE</th>\n",
       "      <th>LONGITUDE</th>\n",
       "      <th>ELEVATION</th>\n",
       "      <th>DATE</th>\n",
       "      <th>AWND</th>\n",
       "      <th>PRCP</th>\n",
       "      <th>SNOW</th>\n",
       "      <th>SNWD</th>\n",
       "      <th>TAVG</th>\n",
       "      <th>TMAX</th>\n",
       "      <th>TMIN</th>\n",
       "      <th>WDF2</th>\n",
       "      <th>WSF2</th>\n",
       "    </tr>\n",
       "  </thead>\n",
       "  <tbody>\n",
       "    <tr>\n",
       "      <th>0</th>\n",
       "      <td>USW00014733</td>\n",
       "      <td>BUFFALO NIAGARA INTERNATIONAL, NY US</td>\n",
       "      <td>42.93998</td>\n",
       "      <td>-78.73606</td>\n",
       "      <td>216.2</td>\n",
       "      <td>2015-01-01</td>\n",
       "      <td>24.61</td>\n",
       "      <td>0.00</td>\n",
       "      <td>0.3</td>\n",
       "      <td>1.2</td>\n",
       "      <td>23.0</td>\n",
       "      <td>32.0</td>\n",
       "      <td>20.0</td>\n",
       "      <td>240</td>\n",
       "      <td>40.0</td>\n",
       "    </tr>\n",
       "    <tr>\n",
       "      <th>1</th>\n",
       "      <td>USW00014733</td>\n",
       "      <td>BUFFALO NIAGARA INTERNATIONAL, NY US</td>\n",
       "      <td>42.93998</td>\n",
       "      <td>-78.73606</td>\n",
       "      <td>216.2</td>\n",
       "      <td>2015-01-02</td>\n",
       "      <td>13.20</td>\n",
       "      <td>0.00</td>\n",
       "      <td>0.0</td>\n",
       "      <td>1.2</td>\n",
       "      <td>31.0</td>\n",
       "      <td>33.0</td>\n",
       "      <td>22.0</td>\n",
       "      <td>250</td>\n",
       "      <td>29.1</td>\n",
       "    </tr>\n",
       "    <tr>\n",
       "      <th>2</th>\n",
       "      <td>USW00014733</td>\n",
       "      <td>BUFFALO NIAGARA INTERNATIONAL, NY US</td>\n",
       "      <td>42.93998</td>\n",
       "      <td>-78.73606</td>\n",
       "      <td>216.2</td>\n",
       "      <td>2015-01-03</td>\n",
       "      <td>8.50</td>\n",
       "      <td>0.58</td>\n",
       "      <td>0.0</td>\n",
       "      <td>0.0</td>\n",
       "      <td>27.0</td>\n",
       "      <td>48.0</td>\n",
       "      <td>22.0</td>\n",
       "      <td>60</td>\n",
       "      <td>15.0</td>\n",
       "    </tr>\n",
       "    <tr>\n",
       "      <th>3</th>\n",
       "      <td>USW00014733</td>\n",
       "      <td>BUFFALO NIAGARA INTERNATIONAL, NY US</td>\n",
       "      <td>42.93998</td>\n",
       "      <td>-78.73606</td>\n",
       "      <td>216.2</td>\n",
       "      <td>2015-01-04</td>\n",
       "      <td>17.67</td>\n",
       "      <td>0.52</td>\n",
       "      <td>0.0</td>\n",
       "      <td>0.0</td>\n",
       "      <td>44.0</td>\n",
       "      <td>55.0</td>\n",
       "      <td>28.0</td>\n",
       "      <td>250</td>\n",
       "      <td>38.0</td>\n",
       "    </tr>\n",
       "    <tr>\n",
       "      <th>4</th>\n",
       "      <td>USW00014733</td>\n",
       "      <td>BUFFALO NIAGARA INTERNATIONAL, NY US</td>\n",
       "      <td>42.93998</td>\n",
       "      <td>-78.73606</td>\n",
       "      <td>216.2</td>\n",
       "      <td>2015-01-05</td>\n",
       "      <td>19.24</td>\n",
       "      <td>0.00</td>\n",
       "      <td>0.1</td>\n",
       "      <td>0.0</td>\n",
       "      <td>20.0</td>\n",
       "      <td>28.0</td>\n",
       "      <td>9.0</td>\n",
       "      <td>270</td>\n",
       "      <td>31.1</td>\n",
       "    </tr>\n",
       "  </tbody>\n",
       "</table>\n",
       "</div>"
      ],
      "text/plain": [
       "       STATION                                  NAME  LATITUDE  LONGITUDE  \\\n",
       "0  USW00014733  BUFFALO NIAGARA INTERNATIONAL, NY US  42.93998  -78.73606   \n",
       "1  USW00014733  BUFFALO NIAGARA INTERNATIONAL, NY US  42.93998  -78.73606   \n",
       "2  USW00014733  BUFFALO NIAGARA INTERNATIONAL, NY US  42.93998  -78.73606   \n",
       "3  USW00014733  BUFFALO NIAGARA INTERNATIONAL, NY US  42.93998  -78.73606   \n",
       "4  USW00014733  BUFFALO NIAGARA INTERNATIONAL, NY US  42.93998  -78.73606   \n",
       "\n",
       "   ELEVATION        DATE   AWND  PRCP  SNOW  SNWD  TAVG  TMAX  TMIN  WDF2  \\\n",
       "0      216.2  2015-01-01  24.61  0.00   0.3   1.2  23.0  32.0  20.0   240   \n",
       "1      216.2  2015-01-02  13.20  0.00   0.0   1.2  31.0  33.0  22.0   250   \n",
       "2      216.2  2015-01-03   8.50  0.58   0.0   0.0  27.0  48.0  22.0    60   \n",
       "3      216.2  2015-01-04  17.67  0.52   0.0   0.0  44.0  55.0  28.0   250   \n",
       "4      216.2  2015-01-05  19.24  0.00   0.1   0.0  20.0  28.0   9.0   270   \n",
       "\n",
       "   WSF2  \n",
       "0  40.0  \n",
       "1  29.1  \n",
       "2  15.0  \n",
       "3  38.0  \n",
       "4  31.1  "
      ]
     },
     "metadata": {},
     "output_type": "display_data"
    },
    {
     "data": {
      "text/plain": [
       "STATION        0\n",
       "NAME           0\n",
       "LATITUDE       0\n",
       "LONGITUDE      0\n",
       "ELEVATION      0\n",
       "DATE           0\n",
       "AWND           3\n",
       "PRCP           1\n",
       "SNOW           0\n",
       "SNWD           0\n",
       "TAVG         367\n",
       "TMAX           1\n",
       "TMIN           1\n",
       "WDF2           0\n",
       "WSF2           0\n",
       "dtype: int64"
      ]
     },
     "metadata": {},
     "output_type": "display_data"
    }
   ],
   "source": [
    "data.describe()"
   ]
  },
  {
   "cell_type": "markdown",
   "id": "29c354b3",
   "metadata": {},
   "source": [
    "# 2. Check for missing values"
   ]
  },
  {
   "cell_type": "markdown",
   "id": "74f14bbe",
   "metadata": {},
   "source": [
    "# 3. Visualize missing values"
   ]
  },
  {
   "cell_type": "markdown",
   "id": "1cecd582",
   "metadata": {},
   "source": [
    "# 4. Handle/replace missing values"
   ]
  },
  {
   "cell_type": "markdown",
   "id": "c43d0875",
   "metadata": {},
   "source": [
    "# 5. Numeric and visual analysis"
   ]
  },
  {
   "cell_type": "markdown",
   "id": "b9115fdb",
   "metadata": {},
   "source": [
    "## Question/Point 1 "
   ]
  },
  {
   "cell_type": "markdown",
   "id": "43059bd6",
   "metadata": {},
   "source": [
    "## Question/Point 2"
   ]
  },
  {
   "cell_type": "markdown",
   "id": "9e668127",
   "metadata": {},
   "source": [
    "## Question/Point 3"
   ]
  },
  {
   "cell_type": "markdown",
   "id": "998aa662",
   "metadata": {},
   "source": [
    "## ..."
   ]
  },
  {
   "cell_type": "markdown",
   "id": "1fc138c6",
   "metadata": {},
   "source": [
    "# Ending remarks"
   ]
  },
  {
   "cell_type": "markdown",
   "id": "5ee7c167",
   "metadata": {},
   "source": [
    "# Future work"
   ]
  }
 ],
 "metadata": {
  "kernelspec": {
   "display_name": "Python 3 (ipykernel)",
   "language": "python",
   "name": "python3"
  },
  "language_info": {
   "codemirror_mode": {
    "name": "ipython",
    "version": 3
   },
   "file_extension": ".py",
   "mimetype": "text/x-python",
   "name": "python",
   "nbconvert_exporter": "python",
   "pygments_lexer": "ipython3",
   "version": "3.9.7"
  }
 },
 "nbformat": 4,
 "nbformat_minor": 5
}
