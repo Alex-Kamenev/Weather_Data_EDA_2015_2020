{
 "cells": [
  {
   "cell_type": "markdown",
   "id": "e19e2215",
   "metadata": {},
   "source": [
    "# Analysis of weather change and paterns for New York State from 2015 Jan 1 to 2020 Dec 31"
   ]
  },
  {
   "cell_type": "markdown",
   "id": "af3e0c6b",
   "metadata": {},
   "source": [
    "authors: Ravi Konjeti, Lakshmi Bhavani and Aleksandar Kamenev"
   ]
  },
  {
   "cell_type": "markdown",
   "id": "8fb21af1",
   "metadata": {},
   "source": [
    "## Data Dictionary "
   ]
  },
  {
   "cell_type": "markdown",
   "id": "ea61e154",
   "metadata": {},
   "source": [
    "Weather Data for NY state from 2015 to 2020 inclusive, from 5 stations across the state\n",
    "\n",
    "source: https://www.ncdc.noaa.gov/cdo-web/datasets\n",
    "\n",
    "    - STATION: Station identification code\n",
    "    - NAME: Name of the station (usually city/airport name)\n",
    "    - LATITUDE: (decimated degrees w/northern hemisphere values > 0, southern hemisphere values < 0)\n",
    "    - LONGITUDE: (decimated degrees w/western hemisphere values < 0, eastern hemisphere values > 0)\n",
    "    - ELEVATION: above mean sea level (tenths of meters)\n",
    "    - DATE: Year of the record (4 digits) followed by month (2 digits) and day (2 digits)\n",
    "    - AWND: Average daily wind speed\n",
    "    - PRCP: Precipitation \n",
    "    - SNOW: Snowfall\n",
    "    - SNWD: Snow depth\n",
    "    - TAVG: Average temperature\n",
    "    - TMAX: Maximum temperature\n",
    "    - TMIN: Minimum temperature \n",
    "    - WDF2: Direction of fastest 2-minute wind (degrees)\n",
    "    - WSF2: Fastest 2-minute wind speed\n",
    "    \n",
    "Please see http://www1.ncdc.noaa.gov/pub/data/ghcn/daily/ghcnd-stations.txt for a complete list of stations and their metadata."
   ]
  },
  {
   "cell_type": "markdown",
   "id": "b8f2b39f",
   "metadata": {},
   "source": [
    "# 1. Import libraries and load dataset"
   ]
  },
  {
   "cell_type": "markdown",
   "id": "64cbcaf5",
   "metadata": {},
   "source": [
    "### Imports"
   ]
  },
  {
   "cell_type": "code",
   "execution_count": 1,
   "id": "497373ea",
   "metadata": {},
   "outputs": [],
   "source": [
    "import pandas as pd\n",
    "import edapy.datainfo as d_info\n",
    "import edapy.load_data as d_load\n",
    "import edapy.plot as my_plot\n",
    "import matplotlib.pyplot as plt\n",
    "import numpy as np\n",
    "import seaborn as sns"
   ]
  },
  {
   "cell_type": "markdown",
   "id": "0385df95",
   "metadata": {},
   "source": [
    "### Load data "
   ]
  },
  {
   "cell_type": "code",
   "execution_count": 2,
   "id": "97b0e084",
   "metadata": {},
   "outputs": [],
   "source": [
    "# load in data \n",
    "weather_df = d_load.load_df(r'data\\dataset.csv')"
   ]
  },
  {
   "cell_type": "code",
   "execution_count": 3,
   "id": "a8c39fc1",
   "metadata": {},
   "outputs": [],
   "source": [
    "# instantiate custom package class for eda \n",
    "data = d_info.DataInfo(weather_df)"
   ]
  },
  {
   "cell_type": "markdown",
   "id": "3cb92d6c",
   "metadata": {},
   "source": [
    "The method called below shows the first 5 records in the df so we can get a feel for the data. It also lists the features present and gives information about the feature name, number of non-null values, and data type."
   ]
  },
  {
   "cell_type": "code",
   "execution_count": 4,
   "id": "49348442",
   "metadata": {
    "scrolled": false
   },
   "outputs": [
    {
     "data": {
      "text/html": [
       "<div>\n",
       "<style scoped>\n",
       "    .dataframe tbody tr th:only-of-type {\n",
       "        vertical-align: middle;\n",
       "    }\n",
       "\n",
       "    .dataframe tbody tr th {\n",
       "        vertical-align: top;\n",
       "    }\n",
       "\n",
       "    .dataframe thead th {\n",
       "        text-align: right;\n",
       "    }\n",
       "</style>\n",
       "<table border=\"1\" class=\"dataframe\">\n",
       "  <thead>\n",
       "    <tr style=\"text-align: right;\">\n",
       "      <th></th>\n",
       "      <th>STATION</th>\n",
       "      <th>NAME</th>\n",
       "      <th>LATITUDE</th>\n",
       "      <th>LONGITUDE</th>\n",
       "      <th>ELEVATION</th>\n",
       "      <th>DATE</th>\n",
       "      <th>AWND</th>\n",
       "      <th>PRCP</th>\n",
       "      <th>SNOW</th>\n",
       "      <th>SNWD</th>\n",
       "      <th>TAVG</th>\n",
       "      <th>TMAX</th>\n",
       "      <th>TMIN</th>\n",
       "      <th>WDF2</th>\n",
       "      <th>WSF2</th>\n",
       "    </tr>\n",
       "  </thead>\n",
       "  <tbody>\n",
       "    <tr>\n",
       "      <th>0</th>\n",
       "      <td>USW00014733</td>\n",
       "      <td>BUFFALO NIAGARA INTERNATIONAL, NY US</td>\n",
       "      <td>42.93998</td>\n",
       "      <td>-78.73606</td>\n",
       "      <td>216.2</td>\n",
       "      <td>2015-01-01</td>\n",
       "      <td>24.61</td>\n",
       "      <td>0.00</td>\n",
       "      <td>0.3</td>\n",
       "      <td>1.2</td>\n",
       "      <td>23.0</td>\n",
       "      <td>32.0</td>\n",
       "      <td>20.0</td>\n",
       "      <td>240</td>\n",
       "      <td>40.0</td>\n",
       "    </tr>\n",
       "    <tr>\n",
       "      <th>1</th>\n",
       "      <td>USW00014733</td>\n",
       "      <td>BUFFALO NIAGARA INTERNATIONAL, NY US</td>\n",
       "      <td>42.93998</td>\n",
       "      <td>-78.73606</td>\n",
       "      <td>216.2</td>\n",
       "      <td>2015-01-02</td>\n",
       "      <td>13.20</td>\n",
       "      <td>0.00</td>\n",
       "      <td>0.0</td>\n",
       "      <td>1.2</td>\n",
       "      <td>31.0</td>\n",
       "      <td>33.0</td>\n",
       "      <td>22.0</td>\n",
       "      <td>250</td>\n",
       "      <td>29.1</td>\n",
       "    </tr>\n",
       "    <tr>\n",
       "      <th>2</th>\n",
       "      <td>USW00014733</td>\n",
       "      <td>BUFFALO NIAGARA INTERNATIONAL, NY US</td>\n",
       "      <td>42.93998</td>\n",
       "      <td>-78.73606</td>\n",
       "      <td>216.2</td>\n",
       "      <td>2015-01-03</td>\n",
       "      <td>8.50</td>\n",
       "      <td>0.58</td>\n",
       "      <td>0.0</td>\n",
       "      <td>0.0</td>\n",
       "      <td>27.0</td>\n",
       "      <td>48.0</td>\n",
       "      <td>22.0</td>\n",
       "      <td>60</td>\n",
       "      <td>15.0</td>\n",
       "    </tr>\n",
       "    <tr>\n",
       "      <th>3</th>\n",
       "      <td>USW00014733</td>\n",
       "      <td>BUFFALO NIAGARA INTERNATIONAL, NY US</td>\n",
       "      <td>42.93998</td>\n",
       "      <td>-78.73606</td>\n",
       "      <td>216.2</td>\n",
       "      <td>2015-01-04</td>\n",
       "      <td>17.67</td>\n",
       "      <td>0.52</td>\n",
       "      <td>0.0</td>\n",
       "      <td>0.0</td>\n",
       "      <td>44.0</td>\n",
       "      <td>55.0</td>\n",
       "      <td>28.0</td>\n",
       "      <td>250</td>\n",
       "      <td>38.0</td>\n",
       "    </tr>\n",
       "    <tr>\n",
       "      <th>4</th>\n",
       "      <td>USW00014733</td>\n",
       "      <td>BUFFALO NIAGARA INTERNATIONAL, NY US</td>\n",
       "      <td>42.93998</td>\n",
       "      <td>-78.73606</td>\n",
       "      <td>216.2</td>\n",
       "      <td>2015-01-05</td>\n",
       "      <td>19.24</td>\n",
       "      <td>0.00</td>\n",
       "      <td>0.1</td>\n",
       "      <td>0.0</td>\n",
       "      <td>20.0</td>\n",
       "      <td>28.0</td>\n",
       "      <td>9.0</td>\n",
       "      <td>270</td>\n",
       "      <td>31.1</td>\n",
       "    </tr>\n",
       "  </tbody>\n",
       "</table>\n",
       "</div>"
      ],
      "text/plain": [
       "       STATION                                  NAME  LATITUDE  LONGITUDE  \\\n",
       "0  USW00014733  BUFFALO NIAGARA INTERNATIONAL, NY US  42.93998  -78.73606   \n",
       "1  USW00014733  BUFFALO NIAGARA INTERNATIONAL, NY US  42.93998  -78.73606   \n",
       "2  USW00014733  BUFFALO NIAGARA INTERNATIONAL, NY US  42.93998  -78.73606   \n",
       "3  USW00014733  BUFFALO NIAGARA INTERNATIONAL, NY US  42.93998  -78.73606   \n",
       "4  USW00014733  BUFFALO NIAGARA INTERNATIONAL, NY US  42.93998  -78.73606   \n",
       "\n",
       "   ELEVATION        DATE   AWND  PRCP  SNOW  SNWD  TAVG  TMAX  TMIN  WDF2  \\\n",
       "0      216.2  2015-01-01  24.61  0.00   0.3   1.2  23.0  32.0  20.0   240   \n",
       "1      216.2  2015-01-02  13.20  0.00   0.0   1.2  31.0  33.0  22.0   250   \n",
       "2      216.2  2015-01-03   8.50  0.58   0.0   0.0  27.0  48.0  22.0    60   \n",
       "3      216.2  2015-01-04  17.67  0.52   0.0   0.0  44.0  55.0  28.0   250   \n",
       "4      216.2  2015-01-05  19.24  0.00   0.1   0.0  20.0  28.0   9.0   270   \n",
       "\n",
       "   WSF2  \n",
       "0  40.0  \n",
       "1  29.1  \n",
       "2  15.0  \n",
       "3  38.0  \n",
       "4  31.1  "
      ]
     },
     "metadata": {},
     "output_type": "display_data"
    },
    {
     "name": "stdout",
     "output_type": "stream",
     "text": [
      "<class 'pandas.core.frame.DataFrame'>\n",
      "RangeIndex: 10960 entries, 0 to 10959\n",
      "Data columns (total 15 columns):\n",
      " #   Column     Non-Null Count  Dtype  \n",
      "---  ------     --------------  -----  \n",
      " 0   STATION    10960 non-null  object \n",
      " 1   NAME       10960 non-null  object \n",
      " 2   LATITUDE   10960 non-null  float64\n",
      " 3   LONGITUDE  10960 non-null  float64\n",
      " 4   ELEVATION  10960 non-null  float64\n",
      " 5   DATE       10960 non-null  object \n",
      " 6   AWND       10957 non-null  float64\n",
      " 7   PRCP       10959 non-null  float64\n",
      " 8   SNOW       10960 non-null  float64\n",
      " 9   SNWD       10960 non-null  float64\n",
      " 10  TAVG       10593 non-null  float64\n",
      " 11  TMAX       10959 non-null  float64\n",
      " 12  TMIN       10959 non-null  float64\n",
      " 13  WDF2       10960 non-null  int64  \n",
      " 14  WSF2       10960 non-null  float64\n",
      "dtypes: float64(11), int64(1), object(3)\n",
      "memory usage: 1.3+ MB\n"
     ]
    },
    {
     "data": {
      "text/plain": [
       "None"
      ]
     },
     "metadata": {},
     "output_type": "display_data"
    }
   ],
   "source": [
    "data.describe()"
   ]
  },
  {
   "cell_type": "markdown",
   "id": "599280f7",
   "metadata": {},
   "source": [
    "### Observation 1.01"
   ]
  },
  {
   "cell_type": "markdown",
   "id": "9d475ff9",
   "metadata": {},
   "source": [
    "From the above information, some key details about the data set present can be observed.\n",
    "\n",
    "1. For the most part we have numeric values but there are some object time values.\n",
    "\n",
    "    - STATION & NAME are strong candidates for conversion to String and also can potentially be seen as candidates for categorical encoding (one-hot encoding). However, since we will only be using these values for identification of the stations, the splitting of the data and no predictions will be made on what station the data point is from as this is not of interest to this research we will not focus on these two features beyond use for splitting and differentiation between station to perform comparisons on other features.\n",
    "    \n",
    "    - DATE is a good candidate for conversion to date-time format and base of comparison when doing time series analysis.\n",
    "\n",
    "\n",
    "2. The total number of features is 14, the total number of records are 10960 and some missing records are present. More about missing records in the next section."
   ]
  },
  {
   "cell_type": "code",
   "execution_count": 5,
   "id": "7268620a",
   "metadata": {},
   "outputs": [],
   "source": [
    "# to date-time format\n",
    "data.to_date_time(\"DATE\")\n",
    "# While we can convert to string, two questions arise. Is it needed? Is one hot encoding not more beneficial.\n",
    "# data.as_string(\"STATION\", \"NAME\")"
   ]
  },
  {
   "cell_type": "markdown",
   "id": "90723fe6",
   "metadata": {},
   "source": [
    "# 2. Check for missing values"
   ]
  },
  {
   "cell_type": "markdown",
   "id": "7ca24375",
   "metadata": {},
   "source": [
    "The method called below gives information in detail about the number of missing and present values per feature in the dataset as well as provide details about the possible values a feature may have and the number of times they occur. More on this will follow later on in the notebook when we visualize data per feature looking for the outlier."
   ]
  },
  {
   "cell_type": "code",
   "execution_count": 6,
   "id": "685a34db",
   "metadata": {
    "scrolled": false
   },
   "outputs": [
    {
     "name": "stdout",
     "output_type": "stream",
     "text": [
      "\n",
      "Show number of missing instances per feature \n",
      "--------------------\n"
     ]
    },
    {
     "data": {
      "text/plain": [
       "STATION        0\n",
       "NAME           0\n",
       "LATITUDE       0\n",
       "LONGITUDE      0\n",
       "ELEVATION      0\n",
       "DATE           0\n",
       "AWND           3\n",
       "PRCP           1\n",
       "SNOW           0\n",
       "SNWD           0\n",
       "TAVG         367\n",
       "TMAX           1\n",
       "TMIN           1\n",
       "WDF2           0\n",
       "WSF2           0\n",
       "dtype: int64"
      ]
     },
     "metadata": {},
     "output_type": "display_data"
    },
    {
     "name": "stdout",
     "output_type": "stream",
     "text": [
      "\n",
      "Show number of present instances per feature \n",
      "--------------------\n"
     ]
    },
    {
     "data": {
      "text/plain": [
       "STATION      10960\n",
       "NAME         10960\n",
       "LATITUDE     10960\n",
       "LONGITUDE    10960\n",
       "ELEVATION    10960\n",
       "DATE         10960\n",
       "AWND         10957\n",
       "PRCP         10959\n",
       "SNOW         10960\n",
       "SNWD         10960\n",
       "TAVG         10593\n",
       "TMAX         10959\n",
       "TMIN         10959\n",
       "WDF2         10960\n",
       "WSF2         10960\n",
       "dtype: int64"
      ]
     },
     "metadata": {},
     "output_type": "display_data"
    },
    {
     "name": "stdout",
     "output_type": "stream",
     "text": [
      "Shape (10960, 15)\n",
      "\n",
      "** ** ** ** ** ** ** ** ** ** \n",
      "\n",
      "Feature: STATION\n",
      "\n",
      "Number of unique values: 5 \n",
      "\n",
      "['USW00014733' 'USW00014735' 'USW00004725' 'USW00004781' 'USW00094789']\n",
      "_ _ _ _ _ _ _ _ _ _ _ _ _ _\n",
      "\n",
      "USW00014733    2192\n",
      "USW00014735    2192\n",
      "USW00004725    2192\n",
      "USW00004781    2192\n",
      "USW00094789    2192\n",
      "Name: STATION, dtype: int64\n",
      "___________________________\n",
      "\n",
      "\n",
      "** ** ** ** ** ** ** ** ** ** \n",
      "\n",
      "Feature: NAME\n",
      "\n",
      "Number of unique values: 5 \n",
      "\n",
      "['BUFFALO NIAGARA INTERNATIONAL, NY US'\n",
      " 'ALBANY INTERNATIONAL AIRPORT, NY US' 'BINGHAMTON GREATER AP, NY US'\n",
      " 'ISLIP LI MACARTHUR AIRPORT, NY US' 'JFK INTERNATIONAL AIRPORT, NY US']\n",
      "_ _ _ _ _ _ _ _ _ _ _ _ _ _\n",
      "\n",
      "BUFFALO NIAGARA INTERNATIONAL, NY US    2192\n",
      "ALBANY INTERNATIONAL AIRPORT, NY US     2192\n",
      "BINGHAMTON GREATER AP, NY US            2192\n",
      "ISLIP LI MACARTHUR AIRPORT, NY US       2192\n",
      "JFK INTERNATIONAL AIRPORT, NY US        2192\n",
      "Name: NAME, dtype: int64\n",
      "___________________________\n",
      "\n",
      "\n",
      "** ** ** ** ** ** ** ** ** ** \n",
      "\n",
      "Feature: LATITUDE\n",
      "\n",
      "Number of unique values: 5 \n",
      "\n",
      "[42.93998 42.74722 42.20678 40.79389 40.63915]\n",
      "_ _ _ _ _ _ _ _ _ _ _ _ _ _\n",
      "\n",
      "42.93998    2192\n",
      "42.74722    2192\n",
      "42.20678    2192\n",
      "40.79389    2192\n",
      "40.63915    2192\n",
      "Name: LATITUDE, dtype: int64\n",
      "___________________________\n",
      "\n",
      "\n",
      "** ** ** ** ** ** ** ** ** ** \n",
      "\n",
      "Feature: LONGITUDE\n",
      "\n",
      "Number of unique values: 5 \n",
      "\n",
      "[-78.73606 -73.79913 -75.97993 -73.10181 -73.7639 ]\n",
      "_ _ _ _ _ _ _ _ _ _ _ _ _ _\n",
      "\n",
      "-78.73606    2192\n",
      "-73.79913    2192\n",
      "-75.97993    2192\n",
      "-73.10181    2192\n",
      "-73.76390    2192\n",
      "Name: LONGITUDE, dtype: int64\n",
      "___________________________\n",
      "\n",
      "\n",
      "** ** ** ** ** ** ** ** ** ** \n",
      "\n",
      "Feature: ELEVATION\n",
      "\n",
      "Number of unique values: 5 \n",
      "\n",
      "[216.2  85.4 485.7  25.4   2.7]\n",
      "_ _ _ _ _ _ _ _ _ _ _ _ _ _\n",
      "\n",
      "216.2    2192\n",
      "85.4     2192\n",
      "485.7    2192\n",
      "25.4     2192\n",
      "2.7      2192\n",
      "Name: ELEVATION, dtype: int64\n",
      "___________________________\n",
      "\n",
      "\n",
      "** ** ** ** ** ** ** ** ** ** \n",
      "\n",
      "Feature: DATE\n",
      "\n",
      "Number of unique values: 2192 \n",
      "\n",
      "['2015-01-01T00:00:00.000000000' '2015-01-02T00:00:00.000000000'\n",
      " '2015-01-03T00:00:00.000000000' ... '2020-12-29T00:00:00.000000000'\n",
      " '2020-12-30T00:00:00.000000000' '2020-12-31T00:00:00.000000000']\n",
      "_ _ _ _ _ _ _ _ _ _ _ _ _ _\n",
      "\n",
      "2015-01-01    5\n",
      "2019-01-04    5\n",
      "2018-12-29    5\n",
      "2018-12-30    5\n",
      "2018-12-31    5\n",
      "             ..\n",
      "2016-12-25    5\n",
      "2016-12-24    5\n",
      "2016-12-23    5\n",
      "2016-12-22    5\n",
      "2020-12-31    5\n",
      "Name: DATE, Length: 2192, dtype: int64\n",
      "___________________________\n",
      "\n",
      "\n",
      "** ** ** ** ** ** ** ** ** ** \n",
      "\n",
      "Feature: AWND\n",
      "\n",
      "Number of unique values: 123 \n",
      "\n",
      "[24.61 13.2   8.5  17.67 19.24 10.74 16.55 19.46 18.34 11.86 10.96  8.05\n",
      "  7.83 16.33 13.65  9.84 17.22 12.3   4.92  4.7  14.09  8.95 13.42  6.93\n",
      " 10.51  9.17 14.54 11.18  6.26 15.66  3.8  12.97 10.29  8.28 10.07 12.53\n",
      "  5.82  9.62 15.21 14.76  5.59 11.41  6.04 14.32 11.63  6.71 13.87 16.11\n",
      "  4.03  7.16 17.    4.47 21.47  7.61 18.12 19.01  9.4   8.72  5.37  3.58\n",
      "  7.38 12.08  5.14  6.49 12.75  3.13  4.25 23.71 19.69 21.92 17.9  20.8\n",
      "  3.36 18.79 15.88 14.99 15.43  2.91 17.45 19.91 20.36 21.03 20.13 16.78\n",
      "  2.68 22.37 22.15 25.72 21.25  2.46 18.57 29.3  26.4  25.28 25.95  1.79\n",
      " 22.82 23.04  2.01  1.57  1.12  0.89  2.24  1.34  0.45 20.58  0.67   nan\n",
      " 24.83 23.49 21.7  23.94 27.74 25.05 23.26 24.16 25.5  28.19 29.97 28.41\n",
      " 22.59 27.51 24.38]\n",
      "_ _ _ _ _ _ _ _ _ _ _ _ _ _\n",
      "\n",
      "8.50     372\n",
      "6.71     360\n",
      "5.82     346\n",
      "8.05     320\n",
      "7.61     319\n",
      "        ... \n",
      "28.19      1\n",
      "25.50      1\n",
      "27.74      1\n",
      "0.45       1\n",
      "24.38      1\n",
      "Name: AWND, Length: 122, dtype: int64\n",
      "___________________________\n",
      "\n",
      "\n",
      "** ** ** ** ** ** ** ** ** ** \n",
      "\n",
      "Feature: PRCP\n",
      "\n",
      "Number of unique values: 210 \n",
      "\n",
      "[0.   0.58 0.52 0.02 0.03 0.12 0.4  0.08 0.34 0.04 0.1  0.26 0.01 0.23\n",
      " 0.42 0.35 0.05 0.07 0.3  0.14 0.22 0.09 0.17 0.31 0.39 0.19 0.28 0.37\n",
      " 0.41 0.2  0.27 0.13 0.49 2.44 0.53 0.8  0.57 0.25 0.11 0.46 1.72 0.06\n",
      " 0.43 0.38 0.65 0.16 0.44 2.85 0.81 1.85 1.   0.36 0.76 0.18 1.64 0.15\n",
      " 0.33 0.73 0.51 0.24 0.66 0.89 0.94 0.29 0.32 0.71 1.04 0.72 1.54 1.76\n",
      " 1.1  1.3  0.54 0.83 0.21 0.86 0.69 0.6  0.64 1.58 1.95 1.07 1.29 1.37\n",
      " 1.79 0.77 2.29 1.27 1.25 0.67 0.82 0.63 1.81 0.91 2.01 0.5  0.59 1.33\n",
      " 0.45 0.87 0.88 1.32 1.4  1.15 0.47 1.46 0.55 0.48 0.68 0.9  1.12 1.22\n",
      " 0.74 2.14 0.92 1.18 1.43 1.13 0.78 0.95 0.56 0.62 1.03 1.21 0.61 0.79\n",
      " 1.48 1.62 1.84 1.57 1.11 2.74 0.7  1.2  2.   2.55 1.08 1.55 0.75 0.96\n",
      " 1.06 1.24 1.05 0.97 2.26 1.16  nan 1.28 1.59 0.98 1.6  1.63 0.99 0.84\n",
      " 3.92 1.02 1.38 1.73 1.91 1.23 1.01 1.17 1.65 1.36 0.85 2.18 1.09 1.35\n",
      " 1.51 1.34 1.49 1.47 2.7  1.66 1.45 1.19 1.39 0.93 1.8  1.53 2.02 1.5\n",
      " 1.69 1.44 1.41 2.3  2.13 1.68 1.92 1.87 4.02 3.11 1.7  1.52 1.26 1.61\n",
      " 2.05 2.75 2.48 2.9  2.47 1.42 1.94 2.07 1.78 1.14 2.84 2.16 1.71 2.33]\n",
      "_ _ _ _ _ _ _ _ _ _ _ _ _ _\n",
      "\n",
      "0.00    6572\n",
      "0.01     488\n",
      "0.02     328\n",
      "0.03     227\n",
      "0.04     183\n",
      "        ... \n",
      "2.02       1\n",
      "1.44       1\n",
      "1.41       1\n",
      "2.30       1\n",
      "2.33       1\n",
      "Name: PRCP, Length: 209, dtype: int64\n",
      "___________________________\n",
      "\n",
      "\n",
      "** ** ** ** ** ** ** ** ** ** \n",
      "\n",
      "Feature: SNOW\n",
      "\n",
      "Number of unique values: 102 \n",
      "\n",
      "[ 0.3  0.   0.1  1.   0.8  3.8  6.5  2.9  3.6  0.2  1.6  0.9  1.8  0.6\n",
      "  4.4  8.2  0.7  5.4  2.3  1.1  2.4  2.7  1.4  0.5  6.9  2.1  0.4  1.5\n",
      "  1.9  1.2  2.2  1.3  7.4  3.3  5.8  4.9  8.9  2.8  3.9  9.6  6.3  3.4\n",
      "  5.6  3.2 13.2  1.7  2.6  4.   5.   2.   3.1  2.5  3.7  3.5  8.6  5.7\n",
      "  6.2 17.2  6.4 13.6  4.7  8.7  4.5  4.1 18.4 11.9  3.   6.1  4.6  4.3\n",
      " 11.2  7.6 17.   5.5  8.4 11.5 10.4  4.8 13.3  6.8 19.7  8.8 10.2 10.5\n",
      " 31.2 12.5  8.   7.2  5.1 26.4  7.5 17.4  5.3 23.4  9.8  9.7 14.3 16.\n",
      " 14.9  4.2 30.3  8.3]\n",
      "_ _ _ _ _ _ _ _ _ _ _ _ _ _\n",
      "\n",
      "0.0     9903\n",
      "0.1      178\n",
      "0.2       96\n",
      "0.3       73\n",
      "0.6       49\n",
      "        ... \n",
      "10.4       1\n",
      "13.3       1\n",
      "6.8        1\n",
      "4.7        1\n",
      "8.3        1\n",
      "Name: SNOW, Length: 102, dtype: int64\n",
      "___________________________\n",
      "\n",
      "\n",
      "** ** ** ** ** ** ** ** ** ** \n",
      "\n",
      "Feature: SNWD\n",
      "\n",
      "Number of unique values: 31 \n",
      "\n",
      "[ 1.2  0.   2.   9.8  7.1  9.1  7.9  5.1  3.1  3.9  5.9 13.  16.1 18.1\n",
      " 20.9 22.  22.8 26.  25.2 24.  20.1 14.2 11.8 11.  15.  18.9 16.9 39.\n",
      " 31.1 29.1 28. ]\n",
      "_ _ _ _ _ _ _ _ _ _ _ _ _ _\n",
      "\n",
      "0.0     9514\n",
      "1.2      328\n",
      "2.0      225\n",
      "3.1      170\n",
      "3.9      116\n",
      "5.1      111\n",
      "5.9       75\n",
      "7.9       67\n",
      "7.1       64\n",
      "9.1       45\n",
      "9.8       31\n",
      "11.8      27\n",
      "13.0      25\n",
      "11.0      24\n",
      "22.0      17\n",
      "16.1      16\n",
      "14.2      14\n",
      "18.1      14\n",
      "15.0      14\n",
      "20.9      12\n",
      "20.1      11\n",
      "16.9      11\n",
      "18.9      10\n",
      "22.8       6\n",
      "26.0       4\n",
      "25.2       3\n",
      "24.0       2\n",
      "39.0       1\n",
      "31.1       1\n",
      "29.1       1\n",
      "28.0       1\n",
      "Name: SNWD, dtype: int64\n",
      "___________________________\n",
      "\n",
      "\n",
      "** ** ** ** ** ** ** ** ** ** \n",
      "\n",
      "Feature: TAVG\n",
      "\n",
      "Number of unique values: 97 \n",
      "\n",
      "[23. 31. 27. 44. 20. 12. 11.  8. 16. 21. 30. 10.  7. 18. 25. 15. 39. 24.\n",
      " 26. 13. 14. 17.  2. -1. -5.  6. -4. 19.  5.  3. 22. 33.  9. 32. 36. 35.\n",
      " 42. 37. 28. 38. 34. 49. 47. 40. 53. 45. 60. 51. 52. 57. 43. 54. 55. 58.\n",
      " 65. 62. 66. 72. 76. 74. 73. 61. 59. 64. 68. 63. 70. 71. 67. 77. 48. 56.\n",
      " 69. 75. 79. 78. 50. 46. 29. nan 41. 81. 80. 82.  0.  4.  1. 85. 88. 84.\n",
      " 83. -2. -3. -6. 87. 86. 89.]\n",
      "_ _ _ _ _ _ _ _ _ _ _ _ _ _\n",
      "\n",
      " 71.0    272\n",
      " 69.0    258\n",
      " 72.0    244\n",
      " 67.0    229\n",
      " 74.0    226\n",
      "        ... \n",
      " 88.0      2\n",
      "-5.0       2\n",
      "-3.0       1\n",
      "-6.0       1\n",
      " 89.0      1\n",
      "Name: TAVG, Length: 96, dtype: int64\n",
      "___________________________\n",
      "\n",
      "\n",
      "** ** ** ** ** ** ** ** ** ** \n",
      "\n",
      "Feature: TMAX\n",
      "\n",
      "Number of unique values: 99 \n",
      "\n",
      "[32. 33. 48. 55. 28. 18. 17. 15. 19. 31. 21. 29. 30. 41. 44. 23. 22. 38.\n",
      " 27. 20. 13.  2.  5. 10. 12.  1. 24. 16. 26. 34. 25. 47. 51. 37. 45. 35.\n",
      " 42. 39. 46. 67. 52. 40. 36. 58. 50. 65. 66. 61. 78. 60. 71. 57. 70. 69.\n",
      " 68. 79. 76. 80. 88. 89. 81. 82. 53. 83. 63. 75. 85. 62. 54. 73. 84. 77.\n",
      " 74. 72. 64. 87. 86. 91. 59. 56. 49. 43. 11. 90. 92. 14.  9.  4. 93.  8.\n",
      "  7. 94. 98. 97. 95. 96.  6. nan 99.]\n",
      "_ _ _ _ _ _ _ _ _ _ _ _ _ _\n",
      "\n",
      "81.0    242\n",
      "80.0    238\n",
      "79.0    236\n",
      "83.0    235\n",
      "82.0    220\n",
      "       ... \n",
      "1.0       2\n",
      "7.0       2\n",
      "98.0      2\n",
      "5.0       2\n",
      "2.0       1\n",
      "Name: TMAX, Length: 98, dtype: int64\n",
      "___________________________\n",
      "\n",
      "\n",
      "** ** ** ** ** ** ** ** ** ** \n",
      "\n",
      "Feature: TMIN\n",
      "\n",
      "Number of unique values: 96 \n",
      "\n",
      "[ 20.  22.  28.   9.  10.   2.   5.  14.  15.  -4.   7.   1.  33.  12.\n",
      "  23.  24.  13.   8.   4.   3.   0.   6.  -5. -10.  -6.  -8.  -7.  -1.\n",
      "  25.  19.  27.  29.  31.  35.  30.  16.  26.  18.  17.  32.  37.  39.\n",
      "  34.  46.  38.  40.  43.  44.  42.  47.  51.  54.  53.  59.  64.  67.\n",
      "  49.  41.  50.  60.  65.  62.  63.  58.  45.  56.  61.  57.  69.  55.\n",
      "  52.  71.  72.  66.  68.  70.  48.  36.  21.  11. -12.  74.  75.  76.\n",
      "  -3.  73.  -2.  -9. -13.  77. -18.  nan  78.  79.  80.  82.]\n",
      "_ _ _ _ _ _ _ _ _ _ _ _ _ _\n",
      "\n",
      " 32.0    243\n",
      " 30.0    235\n",
      " 63.0    233\n",
      " 34.0    229\n",
      " 60.0    227\n",
      "        ... \n",
      "-12.0      2\n",
      " 80.0      2\n",
      "-13.0      1\n",
      "-18.0      1\n",
      " 82.0      1\n",
      "Name: TMIN, Length: 95, dtype: int64\n",
      "___________________________\n",
      "\n",
      "\n",
      "** ** ** ** ** ** ** ** ** ** \n",
      "\n",
      "Feature: WDF2\n",
      "\n",
      "Number of unique values: 36 \n",
      "\n",
      "[240 250  60 270 280 220 260 230 350 360 190 200 290  30 310 210 330  40\n",
      "  50 100 300 180 340  80  90 320  70 160  20 130 140 170 120 110 150  10]\n",
      "_ _ _ _ _ _ _ _ _ _ _ _ _ _\n",
      "\n",
      "280    519\n",
      "290    519\n",
      "240    492\n",
      "300    485\n",
      "180    466\n",
      "170    449\n",
      "190    446\n",
      "220    442\n",
      "330    436\n",
      "310    429\n",
      "230    421\n",
      "320    412\n",
      "340    387\n",
      "250    370\n",
      "270    368\n",
      "210    358\n",
      "350    354\n",
      "200    333\n",
      "260    331\n",
      "160    325\n",
      "360    278\n",
      "30     243\n",
      "20     242\n",
      "150    241\n",
      "40     225\n",
      "140    189\n",
      "60     158\n",
      "10     157\n",
      "50     148\n",
      "130    129\n",
      "70     123\n",
      "100    122\n",
      "120    110\n",
      "110    108\n",
      "90      94\n",
      "80      51\n",
      "Name: WDF2, dtype: int64\n",
      "___________________________\n",
      "\n",
      "\n",
      "** ** ** ** ** ** ** ** ** ** \n",
      "\n",
      "Feature: WSF2\n",
      "\n",
      "Number of unique values: 45 \n",
      "\n",
      "[40.  29.1 15.  38.  31.1 21.9 30.  35.1 21.  25.1 16.1 18.1 19.9 10.1\n",
      "  8.9 23.  23.9 13.  25.9 28.  14.1 17.  36.  12.1 33.1 42.9  8.1 32.\n",
      " 40.9 36.9 38.9 46.1 45.  47.  49.   6.9 44.1 52.1 48.1  6.  67.1  4.9\n",
      " 11.  51.  53.9]\n",
      "_ _ _ _ _ _ _ _ _ _ _ _ _ _\n",
      "\n",
      "16.1    815\n",
      "17.0    777\n",
      "18.1    775\n",
      "21.0    764\n",
      "15.0    758\n",
      "19.9    718\n",
      "14.1    672\n",
      "21.9    670\n",
      "13.0    586\n",
      "23.0    546\n",
      "23.9    510\n",
      "12.1    456\n",
      "25.1    386\n",
      "25.9    361\n",
      "10.1    299\n",
      "28.0    295\n",
      "29.1    251\n",
      "30.0    217\n",
      "8.9     177\n",
      "31.1    169\n",
      "32.0    151\n",
      "8.1      99\n",
      "33.1     90\n",
      "35.1     88\n",
      "36.0     75\n",
      "36.9     47\n",
      "38.0     42\n",
      "6.9      38\n",
      "38.9     26\n",
      "40.0     26\n",
      "40.9     21\n",
      "42.9     14\n",
      "6.0      13\n",
      "44.1      9\n",
      "49.0      5\n",
      "47.0      4\n",
      "45.0      2\n",
      "46.1      1\n",
      "52.1      1\n",
      "48.1      1\n",
      "67.1      1\n",
      "4.9       1\n",
      "11.0      1\n",
      "51.0      1\n",
      "53.9      1\n",
      "Name: WSF2, dtype: int64\n",
      "___________________________\n",
      "\n"
     ]
    },
    {
     "data": {
      "text/plain": [
       "None"
      ]
     },
     "metadata": {},
     "output_type": "display_data"
    }
   ],
   "source": [
    "data.nulls()"
   ]
  },
  {
   "cell_type": "markdown",
   "id": "55dffd09",
   "metadata": {},
   "source": [
    "The method called below shows the instances where there are missing records separated based on feature which has missing values."
   ]
  },
  {
   "cell_type": "code",
   "execution_count": 7,
   "id": "faf3dc29",
   "metadata": {
    "scrolled": false
   },
   "outputs": [
    {
     "name": "stdout",
     "output_type": "stream",
     "text": [
      "Index(['AWND', 'PRCP', 'TAVG', 'TMAX', 'TMIN'], dtype='object')\n",
      "\n",
      "Feature name: AWND\n"
     ]
    },
    {
     "data": {
      "text/html": [
       "<div>\n",
       "<style scoped>\n",
       "    .dataframe tbody tr th:only-of-type {\n",
       "        vertical-align: middle;\n",
       "    }\n",
       "\n",
       "    .dataframe tbody tr th {\n",
       "        vertical-align: top;\n",
       "    }\n",
       "\n",
       "    .dataframe thead th {\n",
       "        text-align: right;\n",
       "    }\n",
       "</style>\n",
       "<table border=\"1\" class=\"dataframe\">\n",
       "  <thead>\n",
       "    <tr style=\"text-align: right;\">\n",
       "      <th></th>\n",
       "      <th>STATION</th>\n",
       "      <th>NAME</th>\n",
       "      <th>LATITUDE</th>\n",
       "      <th>LONGITUDE</th>\n",
       "      <th>ELEVATION</th>\n",
       "      <th>DATE</th>\n",
       "      <th>AWND</th>\n",
       "      <th>PRCP</th>\n",
       "      <th>SNOW</th>\n",
       "      <th>SNWD</th>\n",
       "      <th>TAVG</th>\n",
       "      <th>TMAX</th>\n",
       "      <th>TMIN</th>\n",
       "      <th>WDF2</th>\n",
       "      <th>WSF2</th>\n",
       "    </tr>\n",
       "  </thead>\n",
       "  <tbody>\n",
       "    <tr>\n",
       "      <th>6049</th>\n",
       "      <td>USW00004725</td>\n",
       "      <td>BINGHAMTON GREATER AP, NY US</td>\n",
       "      <td>42.20678</td>\n",
       "      <td>-75.97993</td>\n",
       "      <td>485.7</td>\n",
       "      <td>2019-07-24</td>\n",
       "      <td>NaN</td>\n",
       "      <td>0.00</td>\n",
       "      <td>0.0</td>\n",
       "      <td>0.0</td>\n",
       "      <td>69.0</td>\n",
       "      <td>75.0</td>\n",
       "      <td>55.0</td>\n",
       "      <td>360</td>\n",
       "      <td>13.0</td>\n",
       "    </tr>\n",
       "    <tr>\n",
       "      <th>7349</th>\n",
       "      <td>USW00004781</td>\n",
       "      <td>ISLIP LI MACARTHUR AIRPORT, NY US</td>\n",
       "      <td>40.79389</td>\n",
       "      <td>-73.10181</td>\n",
       "      <td>25.4</td>\n",
       "      <td>2017-02-12</td>\n",
       "      <td>NaN</td>\n",
       "      <td>0.04</td>\n",
       "      <td>0.4</td>\n",
       "      <td>9.8</td>\n",
       "      <td>34.0</td>\n",
       "      <td>40.0</td>\n",
       "      <td>30.0</td>\n",
       "      <td>10</td>\n",
       "      <td>6.9</td>\n",
       "    </tr>\n",
       "    <tr>\n",
       "      <th>8170</th>\n",
       "      <td>USW00004781</td>\n",
       "      <td>ISLIP LI MACARTHUR AIRPORT, NY US</td>\n",
       "      <td>40.79389</td>\n",
       "      <td>-73.10181</td>\n",
       "      <td>25.4</td>\n",
       "      <td>2019-05-14</td>\n",
       "      <td>NaN</td>\n",
       "      <td>0.07</td>\n",
       "      <td>0.0</td>\n",
       "      <td>0.0</td>\n",
       "      <td>47.0</td>\n",
       "      <td>52.0</td>\n",
       "      <td>44.0</td>\n",
       "      <td>30</td>\n",
       "      <td>10.1</td>\n",
       "    </tr>\n",
       "  </tbody>\n",
       "</table>\n",
       "</div>"
      ],
      "text/plain": [
       "          STATION                               NAME  LATITUDE  LONGITUDE  \\\n",
       "6049  USW00004725       BINGHAMTON GREATER AP, NY US  42.20678  -75.97993   \n",
       "7349  USW00004781  ISLIP LI MACARTHUR AIRPORT, NY US  40.79389  -73.10181   \n",
       "8170  USW00004781  ISLIP LI MACARTHUR AIRPORT, NY US  40.79389  -73.10181   \n",
       "\n",
       "      ELEVATION       DATE  AWND  PRCP  SNOW  SNWD  TAVG  TMAX  TMIN  WDF2  \\\n",
       "6049      485.7 2019-07-24   NaN  0.00   0.0   0.0  69.0  75.0  55.0   360   \n",
       "7349       25.4 2017-02-12   NaN  0.04   0.4   9.8  34.0  40.0  30.0    10   \n",
       "8170       25.4 2019-05-14   NaN  0.07   0.0   0.0  47.0  52.0  44.0    30   \n",
       "\n",
       "      WSF2  \n",
       "6049  13.0  \n",
       "7349   6.9  \n",
       "8170  10.1  "
      ]
     },
     "metadata": {},
     "output_type": "display_data"
    },
    {
     "name": "stdout",
     "output_type": "stream",
     "text": [
      "\n",
      "Feature name: PRCP\n"
     ]
    },
    {
     "data": {
      "text/html": [
       "<div>\n",
       "<style scoped>\n",
       "    .dataframe tbody tr th:only-of-type {\n",
       "        vertical-align: middle;\n",
       "    }\n",
       "\n",
       "    .dataframe tbody tr th {\n",
       "        vertical-align: top;\n",
       "    }\n",
       "\n",
       "    .dataframe thead th {\n",
       "        text-align: right;\n",
       "    }\n",
       "</style>\n",
       "<table border=\"1\" class=\"dataframe\">\n",
       "  <thead>\n",
       "    <tr style=\"text-align: right;\">\n",
       "      <th></th>\n",
       "      <th>STATION</th>\n",
       "      <th>NAME</th>\n",
       "      <th>LATITUDE</th>\n",
       "      <th>LONGITUDE</th>\n",
       "      <th>ELEVATION</th>\n",
       "      <th>DATE</th>\n",
       "      <th>AWND</th>\n",
       "      <th>PRCP</th>\n",
       "      <th>SNOW</th>\n",
       "      <th>SNWD</th>\n",
       "      <th>TAVG</th>\n",
       "      <th>TMAX</th>\n",
       "      <th>TMIN</th>\n",
       "      <th>WDF2</th>\n",
       "      <th>WSF2</th>\n",
       "    </tr>\n",
       "  </thead>\n",
       "  <tbody>\n",
       "    <tr>\n",
       "      <th>3734</th>\n",
       "      <td>USW00014735</td>\n",
       "      <td>ALBANY INTERNATIONAL AIRPORT, NY US</td>\n",
       "      <td>42.74722</td>\n",
       "      <td>-73.79913</td>\n",
       "      <td>85.4</td>\n",
       "      <td>2019-03-23</td>\n",
       "      <td>21.03</td>\n",
       "      <td>NaN</td>\n",
       "      <td>0.4</td>\n",
       "      <td>0.0</td>\n",
       "      <td>32.0</td>\n",
       "      <td>37.0</td>\n",
       "      <td>28.0</td>\n",
       "      <td>300</td>\n",
       "      <td>36.0</td>\n",
       "    </tr>\n",
       "  </tbody>\n",
       "</table>\n",
       "</div>"
      ],
      "text/plain": [
       "          STATION                                 NAME  LATITUDE  LONGITUDE  \\\n",
       "3734  USW00014735  ALBANY INTERNATIONAL AIRPORT, NY US  42.74722  -73.79913   \n",
       "\n",
       "      ELEVATION       DATE   AWND  PRCP  SNOW  SNWD  TAVG  TMAX  TMIN  WDF2  \\\n",
       "3734       85.4 2019-03-23  21.03   NaN   0.4   0.0  32.0  37.0  28.0   300   \n",
       "\n",
       "      WSF2  \n",
       "3734  36.0  "
      ]
     },
     "metadata": {},
     "output_type": "display_data"
    },
    {
     "name": "stdout",
     "output_type": "stream",
     "text": [
      "\n",
      "Feature name: TAVG\n"
     ]
    },
    {
     "data": {
      "text/html": [
       "<div>\n",
       "<style scoped>\n",
       "    .dataframe tbody tr th:only-of-type {\n",
       "        vertical-align: middle;\n",
       "    }\n",
       "\n",
       "    .dataframe tbody tr th {\n",
       "        vertical-align: top;\n",
       "    }\n",
       "\n",
       "    .dataframe thead th {\n",
       "        text-align: right;\n",
       "    }\n",
       "</style>\n",
       "<table border=\"1\" class=\"dataframe\">\n",
       "  <thead>\n",
       "    <tr style=\"text-align: right;\">\n",
       "      <th></th>\n",
       "      <th>STATION</th>\n",
       "      <th>NAME</th>\n",
       "      <th>LATITUDE</th>\n",
       "      <th>LONGITUDE</th>\n",
       "      <th>ELEVATION</th>\n",
       "      <th>DATE</th>\n",
       "      <th>AWND</th>\n",
       "      <th>PRCP</th>\n",
       "      <th>SNOW</th>\n",
       "      <th>SNWD</th>\n",
       "      <th>TAVG</th>\n",
       "      <th>TMAX</th>\n",
       "      <th>TMIN</th>\n",
       "      <th>WDF2</th>\n",
       "      <th>WSF2</th>\n",
       "    </tr>\n",
       "  </thead>\n",
       "  <tbody>\n",
       "    <tr>\n",
       "      <th>334</th>\n",
       "      <td>USW00014733</td>\n",
       "      <td>BUFFALO NIAGARA INTERNATIONAL, NY US</td>\n",
       "      <td>42.93998</td>\n",
       "      <td>-78.73606</td>\n",
       "      <td>216.2</td>\n",
       "      <td>2015-12-01</td>\n",
       "      <td>7.61</td>\n",
       "      <td>0.10</td>\n",
       "      <td>0.0</td>\n",
       "      <td>0.0</td>\n",
       "      <td>NaN</td>\n",
       "      <td>53.0</td>\n",
       "      <td>39.0</td>\n",
       "      <td>230</td>\n",
       "      <td>18.1</td>\n",
       "    </tr>\n",
       "    <tr>\n",
       "      <th>335</th>\n",
       "      <td>USW00014733</td>\n",
       "      <td>BUFFALO NIAGARA INTERNATIONAL, NY US</td>\n",
       "      <td>42.93998</td>\n",
       "      <td>-78.73606</td>\n",
       "      <td>216.2</td>\n",
       "      <td>2015-12-02</td>\n",
       "      <td>6.71</td>\n",
       "      <td>0.02</td>\n",
       "      <td>0.0</td>\n",
       "      <td>0.0</td>\n",
       "      <td>NaN</td>\n",
       "      <td>49.0</td>\n",
       "      <td>34.0</td>\n",
       "      <td>240</td>\n",
       "      <td>17.0</td>\n",
       "    </tr>\n",
       "    <tr>\n",
       "      <th>336</th>\n",
       "      <td>USW00014733</td>\n",
       "      <td>BUFFALO NIAGARA INTERNATIONAL, NY US</td>\n",
       "      <td>42.93998</td>\n",
       "      <td>-78.73606</td>\n",
       "      <td>216.2</td>\n",
       "      <td>2015-12-03</td>\n",
       "      <td>11.41</td>\n",
       "      <td>0.01</td>\n",
       "      <td>0.0</td>\n",
       "      <td>0.0</td>\n",
       "      <td>NaN</td>\n",
       "      <td>44.0</td>\n",
       "      <td>33.0</td>\n",
       "      <td>280</td>\n",
       "      <td>21.0</td>\n",
       "    </tr>\n",
       "    <tr>\n",
       "      <th>337</th>\n",
       "      <td>USW00014733</td>\n",
       "      <td>BUFFALO NIAGARA INTERNATIONAL, NY US</td>\n",
       "      <td>42.93998</td>\n",
       "      <td>-78.73606</td>\n",
       "      <td>216.2</td>\n",
       "      <td>2015-12-04</td>\n",
       "      <td>11.63</td>\n",
       "      <td>0.00</td>\n",
       "      <td>0.0</td>\n",
       "      <td>0.0</td>\n",
       "      <td>NaN</td>\n",
       "      <td>44.0</td>\n",
       "      <td>38.0</td>\n",
       "      <td>240</td>\n",
       "      <td>28.0</td>\n",
       "    </tr>\n",
       "    <tr>\n",
       "      <th>338</th>\n",
       "      <td>USW00014733</td>\n",
       "      <td>BUFFALO NIAGARA INTERNATIONAL, NY US</td>\n",
       "      <td>42.93998</td>\n",
       "      <td>-78.73606</td>\n",
       "      <td>216.2</td>\n",
       "      <td>2015-12-05</td>\n",
       "      <td>4.92</td>\n",
       "      <td>0.00</td>\n",
       "      <td>0.0</td>\n",
       "      <td>0.0</td>\n",
       "      <td>NaN</td>\n",
       "      <td>45.0</td>\n",
       "      <td>31.0</td>\n",
       "      <td>230</td>\n",
       "      <td>13.0</td>\n",
       "    </tr>\n",
       "    <tr>\n",
       "      <th>...</th>\n",
       "      <td>...</td>\n",
       "      <td>...</td>\n",
       "      <td>...</td>\n",
       "      <td>...</td>\n",
       "      <td>...</td>\n",
       "      <td>...</td>\n",
       "      <td>...</td>\n",
       "      <td>...</td>\n",
       "      <td>...</td>\n",
       "      <td>...</td>\n",
       "      <td>...</td>\n",
       "      <td>...</td>\n",
       "      <td>...</td>\n",
       "      <td>...</td>\n",
       "      <td>...</td>\n",
       "    </tr>\n",
       "    <tr>\n",
       "      <th>2095</th>\n",
       "      <td>USW00014733</td>\n",
       "      <td>BUFFALO NIAGARA INTERNATIONAL, NY US</td>\n",
       "      <td>42.93998</td>\n",
       "      <td>-78.73606</td>\n",
       "      <td>216.2</td>\n",
       "      <td>2020-09-26</td>\n",
       "      <td>8.50</td>\n",
       "      <td>0.00</td>\n",
       "      <td>0.0</td>\n",
       "      <td>0.0</td>\n",
       "      <td>NaN</td>\n",
       "      <td>80.0</td>\n",
       "      <td>57.0</td>\n",
       "      <td>210</td>\n",
       "      <td>16.1</td>\n",
       "    </tr>\n",
       "    <tr>\n",
       "      <th>2096</th>\n",
       "      <td>USW00014733</td>\n",
       "      <td>BUFFALO NIAGARA INTERNATIONAL, NY US</td>\n",
       "      <td>42.93998</td>\n",
       "      <td>-78.73606</td>\n",
       "      <td>216.2</td>\n",
       "      <td>2020-09-27</td>\n",
       "      <td>12.75</td>\n",
       "      <td>0.00</td>\n",
       "      <td>0.0</td>\n",
       "      <td>0.0</td>\n",
       "      <td>NaN</td>\n",
       "      <td>82.0</td>\n",
       "      <td>65.0</td>\n",
       "      <td>210</td>\n",
       "      <td>25.9</td>\n",
       "    </tr>\n",
       "    <tr>\n",
       "      <th>2097</th>\n",
       "      <td>USW00014733</td>\n",
       "      <td>BUFFALO NIAGARA INTERNATIONAL, NY US</td>\n",
       "      <td>42.93998</td>\n",
       "      <td>-78.73606</td>\n",
       "      <td>216.2</td>\n",
       "      <td>2020-09-28</td>\n",
       "      <td>10.51</td>\n",
       "      <td>0.01</td>\n",
       "      <td>0.0</td>\n",
       "      <td>0.0</td>\n",
       "      <td>NaN</td>\n",
       "      <td>80.0</td>\n",
       "      <td>62.0</td>\n",
       "      <td>220</td>\n",
       "      <td>31.1</td>\n",
       "    </tr>\n",
       "    <tr>\n",
       "      <th>2098</th>\n",
       "      <td>USW00014733</td>\n",
       "      <td>BUFFALO NIAGARA INTERNATIONAL, NY US</td>\n",
       "      <td>42.93998</td>\n",
       "      <td>-78.73606</td>\n",
       "      <td>216.2</td>\n",
       "      <td>2020-09-29</td>\n",
       "      <td>8.50</td>\n",
       "      <td>0.41</td>\n",
       "      <td>0.0</td>\n",
       "      <td>0.0</td>\n",
       "      <td>NaN</td>\n",
       "      <td>67.0</td>\n",
       "      <td>54.0</td>\n",
       "      <td>250</td>\n",
       "      <td>25.1</td>\n",
       "    </tr>\n",
       "    <tr>\n",
       "      <th>2099</th>\n",
       "      <td>USW00014733</td>\n",
       "      <td>BUFFALO NIAGARA INTERNATIONAL, NY US</td>\n",
       "      <td>42.93998</td>\n",
       "      <td>-78.73606</td>\n",
       "      <td>216.2</td>\n",
       "      <td>2020-09-30</td>\n",
       "      <td>14.32</td>\n",
       "      <td>1.72</td>\n",
       "      <td>0.0</td>\n",
       "      <td>0.0</td>\n",
       "      <td>NaN</td>\n",
       "      <td>62.0</td>\n",
       "      <td>51.0</td>\n",
       "      <td>210</td>\n",
       "      <td>33.1</td>\n",
       "    </tr>\n",
       "  </tbody>\n",
       "</table>\n",
       "<p>367 rows × 15 columns</p>\n",
       "</div>"
      ],
      "text/plain": [
       "          STATION                                  NAME  LATITUDE  LONGITUDE  \\\n",
       "334   USW00014733  BUFFALO NIAGARA INTERNATIONAL, NY US  42.93998  -78.73606   \n",
       "335   USW00014733  BUFFALO NIAGARA INTERNATIONAL, NY US  42.93998  -78.73606   \n",
       "336   USW00014733  BUFFALO NIAGARA INTERNATIONAL, NY US  42.93998  -78.73606   \n",
       "337   USW00014733  BUFFALO NIAGARA INTERNATIONAL, NY US  42.93998  -78.73606   \n",
       "338   USW00014733  BUFFALO NIAGARA INTERNATIONAL, NY US  42.93998  -78.73606   \n",
       "...           ...                                   ...       ...        ...   \n",
       "2095  USW00014733  BUFFALO NIAGARA INTERNATIONAL, NY US  42.93998  -78.73606   \n",
       "2096  USW00014733  BUFFALO NIAGARA INTERNATIONAL, NY US  42.93998  -78.73606   \n",
       "2097  USW00014733  BUFFALO NIAGARA INTERNATIONAL, NY US  42.93998  -78.73606   \n",
       "2098  USW00014733  BUFFALO NIAGARA INTERNATIONAL, NY US  42.93998  -78.73606   \n",
       "2099  USW00014733  BUFFALO NIAGARA INTERNATIONAL, NY US  42.93998  -78.73606   \n",
       "\n",
       "      ELEVATION       DATE   AWND  PRCP  SNOW  SNWD  TAVG  TMAX  TMIN  WDF2  \\\n",
       "334       216.2 2015-12-01   7.61  0.10   0.0   0.0   NaN  53.0  39.0   230   \n",
       "335       216.2 2015-12-02   6.71  0.02   0.0   0.0   NaN  49.0  34.0   240   \n",
       "336       216.2 2015-12-03  11.41  0.01   0.0   0.0   NaN  44.0  33.0   280   \n",
       "337       216.2 2015-12-04  11.63  0.00   0.0   0.0   NaN  44.0  38.0   240   \n",
       "338       216.2 2015-12-05   4.92  0.00   0.0   0.0   NaN  45.0  31.0   230   \n",
       "...         ...        ...    ...   ...   ...   ...   ...   ...   ...   ...   \n",
       "2095      216.2 2020-09-26   8.50  0.00   0.0   0.0   NaN  80.0  57.0   210   \n",
       "2096      216.2 2020-09-27  12.75  0.00   0.0   0.0   NaN  82.0  65.0   210   \n",
       "2097      216.2 2020-09-28  10.51  0.01   0.0   0.0   NaN  80.0  62.0   220   \n",
       "2098      216.2 2020-09-29   8.50  0.41   0.0   0.0   NaN  67.0  54.0   250   \n",
       "2099      216.2 2020-09-30  14.32  1.72   0.0   0.0   NaN  62.0  51.0   210   \n",
       "\n",
       "      WSF2  \n",
       "334   18.1  \n",
       "335   17.0  \n",
       "336   21.0  \n",
       "337   28.0  \n",
       "338   13.0  \n",
       "...    ...  \n",
       "2095  16.1  \n",
       "2096  25.9  \n",
       "2097  31.1  \n",
       "2098  25.1  \n",
       "2099  33.1  \n",
       "\n",
       "[367 rows x 15 columns]"
      ]
     },
     "metadata": {},
     "output_type": "display_data"
    },
    {
     "name": "stdout",
     "output_type": "stream",
     "text": [
      "\n",
      "Feature name: TMAX\n"
     ]
    },
    {
     "data": {
      "text/html": [
       "<div>\n",
       "<style scoped>\n",
       "    .dataframe tbody tr th:only-of-type {\n",
       "        vertical-align: middle;\n",
       "    }\n",
       "\n",
       "    .dataframe tbody tr th {\n",
       "        vertical-align: top;\n",
       "    }\n",
       "\n",
       "    .dataframe thead th {\n",
       "        text-align: right;\n",
       "    }\n",
       "</style>\n",
       "<table border=\"1\" class=\"dataframe\">\n",
       "  <thead>\n",
       "    <tr style=\"text-align: right;\">\n",
       "      <th></th>\n",
       "      <th>STATION</th>\n",
       "      <th>NAME</th>\n",
       "      <th>LATITUDE</th>\n",
       "      <th>LONGITUDE</th>\n",
       "      <th>ELEVATION</th>\n",
       "      <th>DATE</th>\n",
       "      <th>AWND</th>\n",
       "      <th>PRCP</th>\n",
       "      <th>SNOW</th>\n",
       "      <th>SNWD</th>\n",
       "      <th>TAVG</th>\n",
       "      <th>TMAX</th>\n",
       "      <th>TMIN</th>\n",
       "      <th>WDF2</th>\n",
       "      <th>WSF2</th>\n",
       "    </tr>\n",
       "  </thead>\n",
       "  <tbody>\n",
       "    <tr>\n",
       "      <th>5584</th>\n",
       "      <td>USW00004725</td>\n",
       "      <td>BINGHAMTON GREATER AP, NY US</td>\n",
       "      <td>42.20678</td>\n",
       "      <td>-75.97993</td>\n",
       "      <td>485.7</td>\n",
       "      <td>2018-04-15</td>\n",
       "      <td>17.9</td>\n",
       "      <td>0.0</td>\n",
       "      <td>0.0</td>\n",
       "      <td>0.0</td>\n",
       "      <td>38.0</td>\n",
       "      <td>NaN</td>\n",
       "      <td>NaN</td>\n",
       "      <td>130</td>\n",
       "      <td>29.1</td>\n",
       "    </tr>\n",
       "  </tbody>\n",
       "</table>\n",
       "</div>"
      ],
      "text/plain": [
       "          STATION                          NAME  LATITUDE  LONGITUDE  \\\n",
       "5584  USW00004725  BINGHAMTON GREATER AP, NY US  42.20678  -75.97993   \n",
       "\n",
       "      ELEVATION       DATE  AWND  PRCP  SNOW  SNWD  TAVG  TMAX  TMIN  WDF2  \\\n",
       "5584      485.7 2018-04-15  17.9   0.0   0.0   0.0  38.0   NaN   NaN   130   \n",
       "\n",
       "      WSF2  \n",
       "5584  29.1  "
      ]
     },
     "metadata": {},
     "output_type": "display_data"
    },
    {
     "name": "stdout",
     "output_type": "stream",
     "text": [
      "\n",
      "Feature name: TMIN\n"
     ]
    },
    {
     "data": {
      "text/html": [
       "<div>\n",
       "<style scoped>\n",
       "    .dataframe tbody tr th:only-of-type {\n",
       "        vertical-align: middle;\n",
       "    }\n",
       "\n",
       "    .dataframe tbody tr th {\n",
       "        vertical-align: top;\n",
       "    }\n",
       "\n",
       "    .dataframe thead th {\n",
       "        text-align: right;\n",
       "    }\n",
       "</style>\n",
       "<table border=\"1\" class=\"dataframe\">\n",
       "  <thead>\n",
       "    <tr style=\"text-align: right;\">\n",
       "      <th></th>\n",
       "      <th>STATION</th>\n",
       "      <th>NAME</th>\n",
       "      <th>LATITUDE</th>\n",
       "      <th>LONGITUDE</th>\n",
       "      <th>ELEVATION</th>\n",
       "      <th>DATE</th>\n",
       "      <th>AWND</th>\n",
       "      <th>PRCP</th>\n",
       "      <th>SNOW</th>\n",
       "      <th>SNWD</th>\n",
       "      <th>TAVG</th>\n",
       "      <th>TMAX</th>\n",
       "      <th>TMIN</th>\n",
       "      <th>WDF2</th>\n",
       "      <th>WSF2</th>\n",
       "    </tr>\n",
       "  </thead>\n",
       "  <tbody>\n",
       "    <tr>\n",
       "      <th>5584</th>\n",
       "      <td>USW00004725</td>\n",
       "      <td>BINGHAMTON GREATER AP, NY US</td>\n",
       "      <td>42.20678</td>\n",
       "      <td>-75.97993</td>\n",
       "      <td>485.7</td>\n",
       "      <td>2018-04-15</td>\n",
       "      <td>17.9</td>\n",
       "      <td>0.0</td>\n",
       "      <td>0.0</td>\n",
       "      <td>0.0</td>\n",
       "      <td>38.0</td>\n",
       "      <td>NaN</td>\n",
       "      <td>NaN</td>\n",
       "      <td>130</td>\n",
       "      <td>29.1</td>\n",
       "    </tr>\n",
       "  </tbody>\n",
       "</table>\n",
       "</div>"
      ],
      "text/plain": [
       "          STATION                          NAME  LATITUDE  LONGITUDE  \\\n",
       "5584  USW00004725  BINGHAMTON GREATER AP, NY US  42.20678  -75.97993   \n",
       "\n",
       "      ELEVATION       DATE  AWND  PRCP  SNOW  SNWD  TAVG  TMAX  TMIN  WDF2  \\\n",
       "5584      485.7 2018-04-15  17.9   0.0   0.0   0.0  38.0   NaN   NaN   130   \n",
       "\n",
       "      WSF2  \n",
       "5584  29.1  "
      ]
     },
     "metadata": {},
     "output_type": "display_data"
    }
   ],
   "source": [
    "list_names = data.get_column_names_where_missing_data()\n",
    "print(list_names)\n",
    "data.show_missing(*list_names)"
   ]
  },
  {
   "cell_type": "markdown",
   "id": "93aad0ac",
   "metadata": {},
   "source": [
    "# 3. Visualize missing values"
   ]
  },
  {
   "cell_type": "markdown",
   "id": "a058beaa",
   "metadata": {},
   "source": [
    "The method call below provides visualizations of the missing data in the dataset. This may be helpful to detect and show a correlation between missing values."
   ]
  },
  {
   "cell_type": "code",
   "execution_count": 8,
   "id": "8b5e6d32",
   "metadata": {
    "scrolled": false
   },
   "outputs": [
    {
     "data": {
      "text/plain": [
       "<AxesSubplot:>"
      ]
     },
     "metadata": {},
     "output_type": "display_data"
    },
    {
     "data": {
      "text/plain": [
       "<AxesSubplot:>"
      ]
     },
     "metadata": {},
     "output_type": "display_data"
    },
    {
     "data": {
      "text/plain": [
       "<AxesSubplot:>"
      ]
     },
     "metadata": {},
     "output_type": "display_data"
    },
    {
     "data": {
      "image/png": "[encoded data removed]",
      "text/plain": [
       "<Figure size 864x576 with 3 Axes>"
      ]
     },
     "metadata": {
      "needs_background": "light"
     },
     "output_type": "display_data"
    },
    {
     "data": {
      "image/png": "[encoded data removed]",
      "text/plain": [
       "<Figure size 864x576 with 2 Axes>"
      ]
     },
     "metadata": {
      "needs_background": "light"
     },
     "output_type": "display_data"
    },
    {
     "data": {
      "image/png": "[encoded data removed]",
      "text/plain": [
       "<Figure size 864x576 with 2 Axes>"
      ]
     },
     "metadata": {
      "needs_background": "light"
     },
     "output_type": "display_data"
    }
   ],
   "source": [
    "data.missing_bar_plot()"
   ]
  },
  {
   "cell_type": "markdown",
   "id": "e0f378bf",
   "metadata": {},
   "source": [
    "### Observation 3.01"
   ]
  },
  {
   "cell_type": "markdown",
   "id": "ff0078b7",
   "metadata": {},
   "source": [
    "From the above information we get a good idea from what data is missing and how to handle it.\n",
    "\n",
    "1. As we are working with data points over a period of time and, each instance represents data for a particular date, it would be ideal not to lose/drop any rows. Therefore we will explore other options. There are quite a few build-in solutions to this problem. Back and forward fill and interpolate are a few such possibilities. However, we will use a custom approach to solve the issue of filling in missing data. \n",
    "\n",
    "2. For features: AWND, PRCP, TMAX, and TMIN, the fact that there are data points from several geographically close sources for the same date, will be leveraged.\n",
    "\n",
    "3. To fill in missing values in the TAVG column, we will leverage the fact that each instance has data for min and max temperature on the given date. Adding TMAX and TMIN and dividing the result in two will give a close enough approximation to the actual value. It will serve as a theoretical approximation with high probability.\n",
    "\n",
    "4. From the above heatmap on the missing data it is clear that only in the case of TMIN and TMAX when one is missing so is the other. "
   ]
  },
  {
   "cell_type": "markdown",
   "id": "5f5a1d05",
   "metadata": {},
   "source": [
    "# 4. Handle/replace missing values"
   ]
  },
  {
   "cell_type": "markdown",
   "id": "356cb1c0",
   "metadata": {},
   "source": [
    "Handle missing values in AWND, PRCP, TMAX, and TMIN "
   ]
  },
  {
   "cell_type": "code",
   "execution_count": 9,
   "id": "544f03d9",
   "metadata": {},
   "outputs": [
    {
     "data": {
      "text/plain": [
       "Index(['AWND', 'PRCP', 'TMAX', 'TMIN'], dtype='object')"
      ]
     },
     "execution_count": 9,
     "metadata": {},
     "output_type": "execute_result"
    }
   ],
   "source": [
    "# get list of missing with out TAVG\n",
    "list_names = list_names.drop('TAVG')\n",
    "list_names"
   ]
  },
  {
   "cell_type": "markdown",
   "id": "70e6e689",
   "metadata": {},
   "source": [
    "The below method call replaces missing values for the features in the list with the average value for all instances of that date. \n",
    "\n",
    "Sumation of n(1~i) / i"
   ]
  },
  {
   "cell_type": "code",
   "execution_count": 10,
   "id": "b5ce34ba",
   "metadata": {},
   "outputs": [],
   "source": [
    "data.average_fill_in_missing(list_names)"
   ]
  },
  {
   "cell_type": "markdown",
   "id": "5d7ceedf",
   "metadata": {},
   "source": [
    "The below call replaces missing value with average of two other features.\n",
    "\n",
    "TAVG = (TMAX + TMIN) / 2"
   ]
  },
  {
   "cell_type": "code",
   "execution_count": 11,
   "id": "9f7fbfd1",
   "metadata": {},
   "outputs": [],
   "source": [
    "data.half_sum_fill_in_missing('TAVG')"
   ]
  },
  {
   "cell_type": "markdown",
   "id": "8c31ad81",
   "metadata": {},
   "source": [
    "Check to confirm data adjustments"
   ]
  },
  {
   "cell_type": "code",
   "execution_count": 12,
   "id": "d09ff74e",
   "metadata": {
    "scrolled": false
   },
   "outputs": [
    {
     "name": "stdout",
     "output_type": "stream",
     "text": [
      "<class 'pandas.core.frame.DataFrame'>\n",
      "RangeIndex: 10960 entries, 0 to 10959\n",
      "Data columns (total 15 columns):\n",
      " #   Column     Non-Null Count  Dtype         \n",
      "---  ------     --------------  -----         \n",
      " 0   STATION    10960 non-null  object        \n",
      " 1   NAME       10960 non-null  object        \n",
      " 2   LATITUDE   10960 non-null  float64       \n",
      " 3   LONGITUDE  10960 non-null  float64       \n",
      " 4   ELEVATION  10960 non-null  float64       \n",
      " 5   DATE       10960 non-null  datetime64[ns]\n",
      " 6   AWND       10960 non-null  float64       \n",
      " 7   PRCP       10960 non-null  float64       \n",
      " 8   SNOW       10960 non-null  float64       \n",
      " 9   SNWD       10960 non-null  float64       \n",
      " 10  TAVG       10960 non-null  float64       \n",
      " 11  TMAX       10960 non-null  float64       \n",
      " 12  TMIN       10960 non-null  float64       \n",
      " 13  WDF2       10960 non-null  int64         \n",
      " 14  WSF2       10960 non-null  float64       \n",
      "dtypes: datetime64[ns](1), float64(11), int64(1), object(2)\n",
      "memory usage: 1.3+ MB\n"
     ]
    }
   ],
   "source": [
    "data.info()"
   ]
  },
  {
   "cell_type": "markdown",
   "id": "67e3c299",
   "metadata": {},
   "source": [
    "# 4.1 Data Distribution & Outliers"
   ]
  },
  {
   "cell_type": "markdown",
   "id": "70a9bbe5",
   "metadata": {},
   "source": [
    "The below method call plots the histogram of each feature in the dataset. From this information, we can start to get an idea of how the data is distributed and so gain deeper insight."
   ]
  },
  {
   "cell_type": "code",
   "execution_count": null,
   "id": "0f075f0b",
   "metadata": {
    "scrolled": false
   },
   "outputs": [],
   "source": [
    "my_plot.plot_hist(data.get_df())"
   ]
  },
  {
   "cell_type": "markdown",
   "id": "5430d970",
   "metadata": {},
   "source": [
    "The below boxplot show how the data is distributed over the possible range of values per feature and gives insight into outlier values."
   ]
  },
  {
   "cell_type": "code",
   "execution_count": null,
   "id": "b08fa30c",
   "metadata": {
    "scrolled": false
   },
   "outputs": [],
   "source": [
    "my_plot.plot_outliers(data.get_df())"
   ]
  },
  {
   "cell_type": "code",
   "execution_count": null,
   "id": "1399cb78",
   "metadata": {
    "scrolled": false
   },
   "outputs": [],
   "source": [
    "my_plot.plot_outlier_single_col_for_all(data.get_df())"
   ]
  },
  {
   "cell_type": "markdown",
   "id": "6b6e1fb4",
   "metadata": {},
   "source": [
    "## Observation 3.01"
   ]
  },
  {
   "cell_type": "markdown",
   "id": "ecc084b3",
   "metadata": {},
   "source": [
    " 1. While some values are considered outliers based on the box plots, such values are not unreasonable for weather conditions."
   ]
  },
  {
   "cell_type": "markdown",
   "id": "d7107526",
   "metadata": {},
   "source": [
    "# 4.2 Split Dataset"
   ]
  },
  {
   "cell_type": "markdown",
   "id": "808c1c53",
   "metadata": {},
   "source": [
    "For the next part some more feature engineering will be required.\n",
    " - Year, month and day will be extracted from the DATE feature "
   ]
  },
  {
   "cell_type": "code",
   "execution_count": null,
   "id": "f40592bd",
   "metadata": {},
   "outputs": [],
   "source": [
    "# extract and add features YEAR, MONTH and DAY from DATE\n",
    "data.feature_extraction_date()\n",
    "# extract ad add feature DAYS_SINCE_JAN_1\n",
    "data.feature_extraction_days_since_jan_1()"
   ]
  },
  {
   "cell_type": "code",
   "execution_count": null,
   "id": "c86fc726",
   "metadata": {
    "scrolled": false
   },
   "outputs": [],
   "source": [
    "# confurm operation \n",
    "data.get_df()"
   ]
  },
  {
   "cell_type": "markdown",
   "id": "5e96e018",
   "metadata": {},
   "source": [
    "Motiovation:\n",
    "Splitting the dataset based on station may be beneficial for some comparisons and nonrepetitive code.\n"
   ]
  },
  {
   "cell_type": "code",
   "execution_count": null,
   "id": "c3030694",
   "metadata": {},
   "outputs": [],
   "source": [
    "# get unique values in STATION feature \n",
    "list_of_stations = data.get_unique('STATION')"
   ]
  },
  {
   "cell_type": "code",
   "execution_count": null,
   "id": "e037057a",
   "metadata": {},
   "outputs": [],
   "source": [
    "# make list of df split based on STATION name \n",
    "df_list_station = data.get_list_dfs(list_of_stations, 'STATION')"
   ]
  },
  {
   "cell_type": "markdown",
   "id": "76c168ec",
   "metadata": {},
   "source": [
    "Motiovation: Splitting the datasets of stations based on year may be beneficial for some comparisons and nonrepetitive code."
   ]
  },
  {
   "cell_type": "code",
   "execution_count": null,
   "id": "7a36ba72",
   "metadata": {},
   "outputs": [],
   "source": [
    "# gets a list of list. Each list on i level contains df split on station \n",
    "# and each list on j level contains df split on year for that station  \n",
    "df_i_station_j_years = data.get_list_of_lists_df_split(df_list_station, 'YEAR')"
   ]
  },
  {
   "cell_type": "markdown",
   "id": "89c1fe6f",
   "metadata": {},
   "source": [
    "# 5. Visual Analysis"
   ]
  },
  {
   "cell_type": "markdown",
   "id": "5f339ea6",
   "metadata": {},
   "source": [
    "## Correlation Between Data "
   ]
  },
  {
   "cell_type": "code",
   "execution_count": null,
   "id": "9be5eddd",
   "metadata": {
    "scrolled": false
   },
   "outputs": [],
   "source": [
    "# spearman corr for all feature ecept name, station and date \n",
    "my_plot.plot_heat_map_per_feature(data.get_df(), 'spearman')"
   ]
  },
  {
   "cell_type": "code",
   "execution_count": null,
   "id": "df23b5f7",
   "metadata": {
    "scrolled": false
   },
   "outputs": [],
   "source": [
    "my_plot.heat_map(data.get_df())"
   ]
  },
  {
   "cell_type": "markdown",
   "id": "5dac8233",
   "metadata": {},
   "source": [
    "## Observation 5.01"
   ]
  },
  {
   "cell_type": "markdown",
   "id": "db18a86c",
   "metadata": {},
   "source": [
    " 1. The above heat maps show strong correlations between certain key features. While there are apparent relations, there are some which are very interesting.\n",
    " \n",
    "     Strong corelations:\n",
    "     - AWND and WSF2\n",
    "     - TAVG and TMIN, TAVG and TMAX, TMAX and TMIN are obvious ones\n",
    "     - "
   ]
  },
  {
   "cell_type": "markdown",
   "id": "86ea90b6",
   "metadata": {},
   "source": [
    "## Min & Max Temperature analysis"
   ]
  },
  {
   "cell_type": "markdown",
   "id": "8f4aa597",
   "metadata": {},
   "source": [
    "The below plots show minimum and maximum temperature over the period split by STATION."
   ]
  },
  {
   "cell_type": "code",
   "execution_count": null,
   "id": "547f68f1",
   "metadata": {
    "scrolled": false
   },
   "outputs": [],
   "source": [
    "for df_section in df_list_station:\n",
    "    my_plot.plot_temp_high_low(df_section)"
   ]
  },
  {
   "cell_type": "markdown",
   "id": "5b3a6cc9",
   "metadata": {},
   "source": [
    "The bellow plot shows minimum and maximum temperature and their relation. Color-coding based on data gatheriing station. "
   ]
  },
  {
   "cell_type": "code",
   "execution_count": null,
   "id": "e8873796",
   "metadata": {
    "scrolled": false
   },
   "outputs": [],
   "source": [
    "my_plot.join_plot_hue(data.get_df(), 'TMIN', 'TMAX', 'NAME')"
   ]
  },
  {
   "cell_type": "markdown",
   "id": "d9462105",
   "metadata": {},
   "source": [
    "The bellow plot is for TAVG over time period utalizing a more generic alternative custom plot method as opposed to the one used to plot the plots higher up in this notebook fot TMIN and TMAX over time"
   ]
  },
  {
   "cell_type": "code",
   "execution_count": null,
   "id": "5107ad5b",
   "metadata": {
    "scrolled": false
   },
   "outputs": [],
   "source": [
    "feature_list = ['TAVG']\n",
    "\n",
    "for df_section in df_list_station:\n",
    "    my_plot.plot_many(df_section, 'DATE', 'NAME', feature_list, 'Temperature in degree F°')"
   ]
  },
  {
   "cell_type": "code",
   "execution_count": null,
   "id": "78c45c3e",
   "metadata": {
    "scrolled": false
   },
   "outputs": [],
   "source": [
    "my_plot.join_plot_hue(data.get_df(), 'DATE', 'TAVG', 'NAME')"
   ]
  },
  {
   "cell_type": "markdown",
   "id": "27bd25e5",
   "metadata": {},
   "source": [
    "The plot below shows precipitation over a year's period of time for each year in the df.\n",
    "One plot per data gathering station. "
   ]
  },
  {
   "cell_type": "code",
   "execution_count": null,
   "id": "3713a2d7",
   "metadata": {
    "scrolled": false
   },
   "outputs": [],
   "source": [
    "\n",
    "my_plot.plot_list_of_list(df_i_station_j_years, 'DAYS_SINCE_JAN_1', 'TAVG', 'YEAR', 'NAME', \n",
    "                  'Passed days since Jan 1st', 'Average temperature (F°)')"
   ]
  },
  {
   "cell_type": "markdown",
   "id": "cd790431",
   "metadata": {},
   "source": [
    "Simular to the plots above but with cumulative sum over the period"
   ]
  },
  {
   "cell_type": "code",
   "execution_count": null,
   "id": "ec2917f3",
   "metadata": {
    "scrolled": false
   },
   "outputs": [],
   "source": [
    "my_plot.plot_list_of_list(df_i_station_j_years, 'DAYS_SINCE_JAN_1', 'TAVG', 'YEAR', 'NAME', \n",
    "                  'Passed days since Jan 1st', 'Average temperature (F°)', 'cumsum')"
   ]
  },
  {
   "cell_type": "markdown",
   "id": "9ad35104",
   "metadata": {},
   "source": [
    "### Observation 5.02"
   ]
  },
  {
   "cell_type": "markdown",
   "id": "c425112f",
   "metadata": {},
   "source": [
    "From the above plots, an overall trend is observed as time progresses the difference between min and max temperature decreases, and both those values increase. Therefore, a trend of increase in temperature is present."
   ]
  },
  {
   "cell_type": "markdown",
   "id": "f0999e49",
   "metadata": {},
   "source": [
    "## Precipitation"
   ]
  },
  {
   "cell_type": "code",
   "execution_count": null,
   "id": "ccd0f659",
   "metadata": {
    "scrolled": false
   },
   "outputs": [],
   "source": [
    "feature_list = ['PRCP']\n",
    "\n",
    "for df_section in df_list_station:\n",
    "    my_plot.plot_many(df_section, 'DATE', 'NAME', feature_list, 'Precipitation in inches')"
   ]
  },
  {
   "cell_type": "code",
   "execution_count": null,
   "id": "1f2282c1",
   "metadata": {
    "scrolled": false
   },
   "outputs": [],
   "source": [
    "my_plot.join_plot_hue(data.get_df(), 'DATE', 'PRCP', 'NAME')"
   ]
  },
  {
   "cell_type": "markdown",
   "id": "3b1deb6b",
   "metadata": {},
   "source": [
    "### Precipitation over a year's peroid for all years in the dataset split based on station"
   ]
  },
  {
   "cell_type": "markdown",
   "id": "144087d2",
   "metadata": {},
   "source": [
    "The plot below shows precipitation over a year's period for each year in the df.\n",
    "One plot per data gathering station "
   ]
  },
  {
   "cell_type": "code",
   "execution_count": null,
   "id": "f0d3cae7",
   "metadata": {
    "scrolled": false
   },
   "outputs": [],
   "source": [
    "# plot precipitation over a year period for each year in the df.\n",
    "# One plot per data gathering station \n",
    "my_plot.plot_list_of_list(df_i_station_j_years, 'DAYS_SINCE_JAN_1', 'PRCP', 'YEAR', 'NAME', \n",
    "                  'Passed days since Jan 1st', 'Precipitation (inch)')"
   ]
  },
  {
   "cell_type": "markdown",
   "id": "1699be55",
   "metadata": {},
   "source": [
    "Simular to the plots above but with cumulative sum over the period"
   ]
  },
  {
   "cell_type": "code",
   "execution_count": null,
   "id": "2c8c9285",
   "metadata": {
    "scrolled": false
   },
   "outputs": [],
   "source": [
    "my_plot.plot_list_of_list(df_i_station_j_years, 'DAYS_SINCE_JAN_1', 'PRCP', 'YEAR', 'NAME', \n",
    "                  'Passed days since Jan 1st', 'Precipitation (inch)', 'cumsum')"
   ]
  },
  {
   "cell_type": "code",
   "execution_count": null,
   "id": "575a9e24",
   "metadata": {},
   "outputs": [],
   "source": []
  },
  {
   "cell_type": "code",
   "execution_count": null,
   "id": "56f5b788",
   "metadata": {},
   "outputs": [],
   "source": []
  },
  {
   "cell_type": "code",
   "execution_count": null,
   "id": "d612ab74",
   "metadata": {},
   "outputs": [],
   "source": []
  },
  {
   "cell_type": "markdown",
   "id": "852a9ada",
   "metadata": {},
   "source": [
    "# Fastest 2-minute wind speed & Average daily wind speed"
   ]
  },
  {
   "cell_type": "markdown",
   "id": "33d28e15",
   "metadata": {},
   "source": [
    "Note: Here we can make observations about how windy a particular part of the state is."
   ]
  },
  {
   "cell_type": "markdown",
   "id": "31218137",
   "metadata": {},
   "source": [
    "Fastest 2-minute wind speed in relation to Average daily wind speed. Color-coding based on data gathering station. "
   ]
  },
  {
   "cell_type": "code",
   "execution_count": null,
   "id": "0a485e74",
   "metadata": {
    "scrolled": false
   },
   "outputs": [],
   "source": [
    "my_plot.join_plot_hue(data.get_df(), 'AWND', 'WSF2', 'NAME')"
   ]
  },
  {
   "cell_type": "code",
   "execution_count": null,
   "id": "f29863b8",
   "metadata": {},
   "outputs": [],
   "source": []
  },
  {
   "cell_type": "code",
   "execution_count": null,
   "id": "f4447288",
   "metadata": {},
   "outputs": [],
   "source": []
  },
  {
   "cell_type": "markdown",
   "id": "a8dad08c",
   "metadata": {},
   "source": [
    "## ..."
   ]
  },
  {
   "cell_type": "markdown",
   "id": "2be789b9",
   "metadata": {},
   "source": [
    "# Ending remarks"
   ]
  },
  {
   "cell_type": "markdown",
   "id": "e9684009",
   "metadata": {},
   "source": [
    "# Future work"
   ]
  },
  {
   "cell_type": "code",
   "execution_count": null,
   "id": "10431ec2",
   "metadata": {},
   "outputs": [],
   "source": []
  },
  {
   "cell_type": "code",
   "execution_count": null,
   "id": "15aa3ef8",
   "metadata": {},
   "outputs": [],
   "source": []
  },
  {
   "cell_type": "code",
   "execution_count": null,
   "id": "0ee86b72",
   "metadata": {},
   "outputs": [],
   "source": []
  },
  {
   "cell_type": "code",
   "execution_count": null,
   "id": "3e32803c",
   "metadata": {},
   "outputs": [],
   "source": []
  }
 ],
 "metadata": {
  "kernelspec": {
   "display_name": "Python 3 (ipykernel)",
   "language": "python",
   "name": "python3"
  },
  "language_info": {
   "codemirror_mode": {
    "name": "ipython",
    "version": 3
   },
   "file_extension": ".py",
   "mimetype": "text/x-python",
   "name": "python",
   "nbconvert_exporter": "python",
   "pygments_lexer": "ipython3",
   "version": "3.9.7"
  }
 },
 "nbformat": 4,
 "nbformat_minor": 5
}
